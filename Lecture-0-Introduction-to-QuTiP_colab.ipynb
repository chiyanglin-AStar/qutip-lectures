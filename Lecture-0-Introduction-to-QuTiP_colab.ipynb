{
  "nbformat": 4,
  "nbformat_minor": 0,
  "metadata": {
    "colab": {
      "provenance": [],
      "include_colab_link": true
    },
    "language_info": {
      "name": "python"
    },
    "kernelspec": {
      "name": "python3",
      "display_name": "Python 3"
    }
  },
  "cells": [
    {
      "cell_type": "markdown",
      "metadata": {
        "id": "view-in-github",
        "colab_type": "text"
      },
      "source": [
        "<a href=\"https://colab.research.google.com/github/chiyanglin-AStar/qutip-lectures/blob/master/Lecture-0-Introduction-to-QuTiP_colab.ipynb\" target=\"_parent\"><img src=\"https://colab.research.google.com/assets/colab-badge.svg\" alt=\"Open In Colab\"/></a>"
      ]
    },
    {
      "cell_type": "markdown",
      "source": [
        "# Lecture 0 - Introduction to QuTiP - The Quantum Toolbox in Python\n",
        "\n",
        "Author: J. R. Johansson (robert@riken.jp), http://dml.riken.jp/~rob/\n",
        "\n",
        "The latest version of this [IPython notebook](http://ipython.org/ipython-doc/dev/interactive/htmlnotebook.html) lecture is available at [http://github.com/jrjohansson/qutip-lectures](http://github.com/jrjohansson/qutip-lectures).\n",
        "\n",
        "The other notebooks in this lecture series are indexed at [http://jrjohansson.github.com](http://jrjohansson.github.com)."
      ],
      "metadata": {
        "id": "6kmYmSuWvcdF"
      }
    },
    {
      "cell_type": "code",
      "source": [
        "! pip install qutip # try to run this notebook in colab"
      ],
      "metadata": {
        "id": "32ghBt7Oxg20",
        "outputId": "41f8932d-34fb-4b00-8d6e-8f0c957b6a28",
        "colab": {
          "base_uri": "https://localhost:8080/"
        }
      },
      "execution_count": 1,
      "outputs": [
        {
          "output_type": "stream",
          "name": "stdout",
          "text": [
            "Collecting qutip\n",
            "  Downloading qutip-5.0.4-cp310-cp310-manylinux_2_17_x86_64.manylinux2014_x86_64.whl.metadata (9.2 kB)\n",
            "Requirement already satisfied: numpy>=1.22 in /usr/local/lib/python3.10/dist-packages (from qutip) (1.26.4)\n",
            "Requirement already satisfied: scipy>=1.9 in /usr/local/lib/python3.10/dist-packages (from qutip) (1.13.1)\n",
            "Requirement already satisfied: packaging in /usr/local/lib/python3.10/dist-packages (from qutip) (24.1)\n",
            "Downloading qutip-5.0.4-cp310-cp310-manylinux_2_17_x86_64.manylinux2014_x86_64.whl (28.0 MB)\n",
            "\u001b[2K   \u001b[90m━━━━━━━━━━━━━━━━━━━━━━━━━━━━━━━━━━━━━━━━\u001b[0m \u001b[32m28.0/28.0 MB\u001b[0m \u001b[31m24.7 MB/s\u001b[0m eta \u001b[36m0:00:00\u001b[0m\n",
            "\u001b[?25hInstalling collected packages: qutip\n",
            "Successfully installed qutip-5.0.4\n"
          ]
        }
      ]
    },
    {
      "cell_type": "code",
      "source": [
        "%matplotlib inline\n",
        "import matplotlib.pyplot as plt\n",
        "import numpy as np\n",
        "from IPython.display import Image"
      ],
      "outputs": [],
      "metadata": {
        "id": "N-z7D3XLvcdO"
      },
      "execution_count": 2
    },
    {
      "cell_type": "markdown",
      "source": [
        "## Introduction\n",
        "\n",
        "QuTiP is a python package for calculations and numerical simulations of quantum systems.\n",
        "\n",
        "It includes facilities for representing and doing calculations with quantum objects such state vectors (wavefunctions), as bras/kets/density matrices, quantum operators of single and composite systems, and superoperators (useful for defining master equations).\n",
        "\n",
        "It also includes solvers for a time-evolution of quantum systems, according to: Schrodinger equation, von Neuman equation, master equations, Floquet formalism, Monte-Carlo quantum trajectors, experimental implementations of the stochastic Schrodinger/master equations.\n",
        "\n",
        "For more information see the project web site at http://qutip.googlecode.com, and the documentation at http://qutip.googlecode.com/svn/doc/2.1.0/html/index.html."
      ],
      "metadata": {
        "id": "f56lagX1vcdT"
      }
    },
    {
      "cell_type": "markdown",
      "source": [
        "### Installation\n",
        "\n",
        "To install QuTiP, download the latest release from http://code.google.com/p/qutip/downloads/list or get the latest code from https://github.com/qutip/qutip, and run\n",
        "\n",
        "    $ sudo python setup.py install\n",
        "\n",
        "in the source code directory. For more detailed installation instructions and a list of dependencies that must be installed on the system (basically python+cython+numpy+scipy+matplotlib), see http://qutip.googlecode.com/svn/doc/2.1.0/html/installation.html."
      ],
      "metadata": {
        "id": "TPfxqqaIvcdU"
      }
    },
    {
      "cell_type": "markdown",
      "source": [
        "To use QuTiP in a Python program, first inlude the `qutip` module:"
      ],
      "metadata": {
        "id": "T49GzJFzvcdV"
      }
    },
    {
      "cell_type": "code",
      "source": [
        "from qutip import *\n",
        "import math"
      ],
      "outputs": [],
      "metadata": {
        "id": "9HDDpX_0vcdW"
      },
      "execution_count": 32
    },
    {
      "cell_type": "markdown",
      "source": [
        "This will make the functions and classes in QuTiP available in the rest of the program."
      ],
      "metadata": {
        "id": "tGZBjB68vcdX"
      }
    },
    {
      "cell_type": "markdown",
      "source": [
        "## Quantum object class: `qobj`\n",
        "\n",
        "At the heart of the QuTiP package is the `Qobj` class, which is used for representing quantum object such as states and operator.\n",
        "\n",
        "The `Qobj` class contains all the information required to describe a quantum system, such as its matrix representation, composite structure and dimensionality."
      ],
      "metadata": {
        "id": "P33g4l9xvcdY"
      }
    },
    {
      "cell_type": "code",
      "source": [
        "Image(filename='images/qobj.png')"
      ],
      "outputs": [
        {
          "output_type": "error",
          "ename": "FileNotFoundError",
          "evalue": "[Errno 2] No such file or directory: 'images/qobj.png'",
          "traceback": [
            "\u001b[0;31m---------------------------------------------------------------------------\u001b[0m",
            "\u001b[0;31mFileNotFoundError\u001b[0m                         Traceback (most recent call last)",
            "\u001b[0;32m<ipython-input-4-5598458a9eef>\u001b[0m in \u001b[0;36m<cell line: 1>\u001b[0;34m()\u001b[0m\n\u001b[0;32m----> 1\u001b[0;31m \u001b[0mImage\u001b[0m\u001b[0;34m(\u001b[0m\u001b[0mfilename\u001b[0m\u001b[0;34m=\u001b[0m\u001b[0;34m'images/qobj.png'\u001b[0m\u001b[0;34m)\u001b[0m\u001b[0;34m\u001b[0m\u001b[0;34m\u001b[0m\u001b[0m\n\u001b[0m",
            "\u001b[0;32m/usr/local/lib/python3.10/dist-packages/IPython/core/display.py\u001b[0m in \u001b[0;36m__init__\u001b[0;34m(self, data, url, filename, format, embed, width, height, retina, unconfined, metadata)\u001b[0m\n\u001b[1;32m   1229\u001b[0m         \u001b[0mself\u001b[0m\u001b[0;34m.\u001b[0m\u001b[0mretina\u001b[0m \u001b[0;34m=\u001b[0m \u001b[0mretina\u001b[0m\u001b[0;34m\u001b[0m\u001b[0;34m\u001b[0m\u001b[0m\n\u001b[1;32m   1230\u001b[0m         \u001b[0mself\u001b[0m\u001b[0;34m.\u001b[0m\u001b[0munconfined\u001b[0m \u001b[0;34m=\u001b[0m \u001b[0munconfined\u001b[0m\u001b[0;34m\u001b[0m\u001b[0;34m\u001b[0m\u001b[0m\n\u001b[0;32m-> 1231\u001b[0;31m         super(Image, self).__init__(data=data, url=url, filename=filename, \n\u001b[0m\u001b[1;32m   1232\u001b[0m                 metadata=metadata)\n\u001b[1;32m   1233\u001b[0m \u001b[0;34m\u001b[0m\u001b[0m\n",
            "\u001b[0;32m/usr/local/lib/python3.10/dist-packages/IPython/core/display.py\u001b[0m in \u001b[0;36m__init__\u001b[0;34m(self, data, url, filename, metadata)\u001b[0m\n\u001b[1;32m    635\u001b[0m             \u001b[0mself\u001b[0m\u001b[0;34m.\u001b[0m\u001b[0mmetadata\u001b[0m \u001b[0;34m=\u001b[0m \u001b[0;34m{\u001b[0m\u001b[0;34m}\u001b[0m\u001b[0;34m\u001b[0m\u001b[0;34m\u001b[0m\u001b[0m\n\u001b[1;32m    636\u001b[0m \u001b[0;34m\u001b[0m\u001b[0m\n\u001b[0;32m--> 637\u001b[0;31m         \u001b[0mself\u001b[0m\u001b[0;34m.\u001b[0m\u001b[0mreload\u001b[0m\u001b[0;34m(\u001b[0m\u001b[0;34m)\u001b[0m\u001b[0;34m\u001b[0m\u001b[0;34m\u001b[0m\u001b[0m\n\u001b[0m\u001b[1;32m    638\u001b[0m         \u001b[0mself\u001b[0m\u001b[0;34m.\u001b[0m\u001b[0m_check_data\u001b[0m\u001b[0;34m(\u001b[0m\u001b[0;34m)\u001b[0m\u001b[0;34m\u001b[0m\u001b[0;34m\u001b[0m\u001b[0m\n\u001b[1;32m    639\u001b[0m \u001b[0;34m\u001b[0m\u001b[0m\n",
            "\u001b[0;32m/usr/local/lib/python3.10/dist-packages/IPython/core/display.py\u001b[0m in \u001b[0;36mreload\u001b[0;34m(self)\u001b[0m\n\u001b[1;32m   1261\u001b[0m         \u001b[0;34m\"\"\"Reload the raw data from file or URL.\"\"\"\u001b[0m\u001b[0;34m\u001b[0m\u001b[0;34m\u001b[0m\u001b[0m\n\u001b[1;32m   1262\u001b[0m         \u001b[0;32mif\u001b[0m \u001b[0mself\u001b[0m\u001b[0;34m.\u001b[0m\u001b[0membed\u001b[0m\u001b[0;34m:\u001b[0m\u001b[0;34m\u001b[0m\u001b[0;34m\u001b[0m\u001b[0m\n\u001b[0;32m-> 1263\u001b[0;31m             \u001b[0msuper\u001b[0m\u001b[0;34m(\u001b[0m\u001b[0mImage\u001b[0m\u001b[0;34m,\u001b[0m\u001b[0mself\u001b[0m\u001b[0;34m)\u001b[0m\u001b[0;34m.\u001b[0m\u001b[0mreload\u001b[0m\u001b[0;34m(\u001b[0m\u001b[0;34m)\u001b[0m\u001b[0;34m\u001b[0m\u001b[0;34m\u001b[0m\u001b[0m\n\u001b[0m\u001b[1;32m   1264\u001b[0m             \u001b[0;32mif\u001b[0m \u001b[0mself\u001b[0m\u001b[0;34m.\u001b[0m\u001b[0mretina\u001b[0m\u001b[0;34m:\u001b[0m\u001b[0;34m\u001b[0m\u001b[0;34m\u001b[0m\u001b[0m\n\u001b[1;32m   1265\u001b[0m                 \u001b[0mself\u001b[0m\u001b[0;34m.\u001b[0m\u001b[0m_retina_shape\u001b[0m\u001b[0;34m(\u001b[0m\u001b[0;34m)\u001b[0m\u001b[0;34m\u001b[0m\u001b[0;34m\u001b[0m\u001b[0m\n",
            "\u001b[0;32m/usr/local/lib/python3.10/dist-packages/IPython/core/display.py\u001b[0m in \u001b[0;36mreload\u001b[0;34m(self)\u001b[0m\n\u001b[1;32m    660\u001b[0m         \u001b[0;34m\"\"\"Reload the raw data from file or URL.\"\"\"\u001b[0m\u001b[0;34m\u001b[0m\u001b[0;34m\u001b[0m\u001b[0m\n\u001b[1;32m    661\u001b[0m         \u001b[0;32mif\u001b[0m \u001b[0mself\u001b[0m\u001b[0;34m.\u001b[0m\u001b[0mfilename\u001b[0m \u001b[0;32mis\u001b[0m \u001b[0;32mnot\u001b[0m \u001b[0;32mNone\u001b[0m\u001b[0;34m:\u001b[0m\u001b[0;34m\u001b[0m\u001b[0;34m\u001b[0m\u001b[0m\n\u001b[0;32m--> 662\u001b[0;31m             \u001b[0;32mwith\u001b[0m \u001b[0mopen\u001b[0m\u001b[0;34m(\u001b[0m\u001b[0mself\u001b[0m\u001b[0;34m.\u001b[0m\u001b[0mfilename\u001b[0m\u001b[0;34m,\u001b[0m \u001b[0mself\u001b[0m\u001b[0;34m.\u001b[0m\u001b[0m_read_flags\u001b[0m\u001b[0;34m)\u001b[0m \u001b[0;32mas\u001b[0m \u001b[0mf\u001b[0m\u001b[0;34m:\u001b[0m\u001b[0;34m\u001b[0m\u001b[0;34m\u001b[0m\u001b[0m\n\u001b[0m\u001b[1;32m    663\u001b[0m                 \u001b[0mself\u001b[0m\u001b[0;34m.\u001b[0m\u001b[0mdata\u001b[0m \u001b[0;34m=\u001b[0m \u001b[0mf\u001b[0m\u001b[0;34m.\u001b[0m\u001b[0mread\u001b[0m\u001b[0;34m(\u001b[0m\u001b[0;34m)\u001b[0m\u001b[0;34m\u001b[0m\u001b[0;34m\u001b[0m\u001b[0m\n\u001b[1;32m    664\u001b[0m         \u001b[0;32melif\u001b[0m \u001b[0mself\u001b[0m\u001b[0;34m.\u001b[0m\u001b[0murl\u001b[0m \u001b[0;32mis\u001b[0m \u001b[0;32mnot\u001b[0m \u001b[0;32mNone\u001b[0m\u001b[0;34m:\u001b[0m\u001b[0;34m\u001b[0m\u001b[0;34m\u001b[0m\u001b[0m\n",
            "\u001b[0;31mFileNotFoundError\u001b[0m: [Errno 2] No such file or directory: 'images/qobj.png'"
          ]
        }
      ],
      "metadata": {
        "id": "yeeuG34fvcdZ",
        "outputId": "70169a2b-ad9e-4629-b20a-1dd558ea7f98",
        "colab": {
          "base_uri": "https://localhost:8080/",
          "height": 287
        }
      },
      "execution_count": 4
    },
    {
      "cell_type": "markdown",
      "source": [
        "### Creating and inspecting quantum objects"
      ],
      "metadata": {
        "id": "_p4BH_Lhvcdb"
      }
    },
    {
      "cell_type": "markdown",
      "source": [
        "We can create a new quantum object using the `Qobj` class constructor, like this:"
      ],
      "metadata": {
        "id": "_wn1iYkrvcdc"
      }
    },
    {
      "cell_type": "code",
      "source": [
        "q = Qobj([[1], [0]])\n",
        "\n",
        "q"
      ],
      "outputs": [
        {
          "output_type": "execute_result",
          "data": {
            "text/plain": [
              "Quantum object: dims=[[2], [1]], shape=(2, 1), type='ket', dtype=Dense\n",
              "Qobj data =\n",
              "[[1.]\n",
              " [0.]]"
            ],
            "text/latex": "Quantum object: dims=[[2], [1]], shape=(2, 1), type='ket', dtype=Dense$$\\left(\\begin{array}{cc}1\\\\0\\end{array}\\right)$$"
          },
          "metadata": {},
          "execution_count": 33
        }
      ],
      "metadata": {
        "id": "41dXlh50vcdc",
        "outputId": "2031cc85-5c6c-41eb-ac97-113734d8f3a3",
        "colab": {
          "base_uri": "https://localhost:8080/",
          "height": 34
        }
      },
      "execution_count": 33
    },
    {
      "cell_type": "markdown",
      "source": [
        "Quantum object: dims=[[2], [1]], shape=(2, 1), type='ket', dtype=Dense$$\\left(\\begin{array}{cc}1\\\\0\\end{array}\\right)$$"
      ],
      "metadata": {
        "id": "dNaWR4aw3bIk"
      }
    },
    {
      "cell_type": "markdown",
      "source": [
        "Here we passed python list as an argument to the class constructor. The data in this list is used to construct the matrix representation of the quantum objects, and the other properties of the quantum object is by default computed from the same data.\n",
        "\n",
        "We can inspect the properties of a `Qobj` instance using the following class method:"
      ],
      "metadata": {
        "id": "e_TaiUkqvcdd"
      }
    },
    {
      "cell_type": "code",
      "source": [
        "# the dimension, or composite Hilbert state space structure\n",
        "q.dims"
      ],
      "outputs": [
        {
          "output_type": "execute_result",
          "data": {
            "text/plain": [
              "[[2], [1]]"
            ]
          },
          "metadata": {},
          "execution_count": 34
        }
      ],
      "metadata": {
        "id": "6yfd7w-Tvcdd",
        "outputId": "8671ab88-e2c0-478d-e70d-c58b1bfa7058",
        "colab": {
          "base_uri": "https://localhost:8080/"
        }
      },
      "execution_count": 34
    },
    {
      "cell_type": "code",
      "source": [
        "# the shape of the matrix data representation\n",
        "q.shape"
      ],
      "outputs": [
        {
          "output_type": "execute_result",
          "data": {
            "text/plain": [
              "(2, 1)"
            ]
          },
          "metadata": {},
          "execution_count": 35
        }
      ],
      "metadata": {
        "id": "vIc1CvtRvcde",
        "outputId": "5e144aa0-aab8-42c1-dc65-b60970f77547",
        "colab": {
          "base_uri": "https://localhost:8080/"
        }
      },
      "execution_count": 35
    },
    {
      "cell_type": "code",
      "source": [
        "# the matrix data itself. in sparse matrix format.\n",
        "q.data"
      ],
      "outputs": [
        {
          "output_type": "execute_result",
          "data": {
            "text/plain": [
              "Dense(shape=(2, 1), fortran=True)"
            ]
          },
          "metadata": {},
          "execution_count": 36
        }
      ],
      "metadata": {
        "id": "BFizGsxZvcdf",
        "outputId": "cf4d8a6a-1a15-4dea-9431-218e9bfa62b0",
        "colab": {
          "base_uri": "https://localhost:8080/"
        }
      },
      "execution_count": 36
    },
    {
      "cell_type": "code",
      "source": [
        "# get the dense matrix representation\n",
        "q.full()"
      ],
      "outputs": [
        {
          "output_type": "execute_result",
          "data": {
            "text/plain": [
              "array([[1.+0.j],\n",
              "       [0.+0.j]])"
            ]
          },
          "metadata": {},
          "execution_count": 37
        }
      ],
      "metadata": {
        "id": "FTqknbc6vcdg",
        "outputId": "d45b632e-95fd-4370-eab6-446de8d036d6",
        "colab": {
          "base_uri": "https://localhost:8080/"
        }
      },
      "execution_count": 37
    },
    {
      "cell_type": "code",
      "source": [
        "# some additional properties\n",
        "q.isherm, q.type"
      ],
      "outputs": [
        {
          "output_type": "execute_result",
          "data": {
            "text/plain": [
              "(False, 'ket')"
            ]
          },
          "metadata": {},
          "execution_count": 38
        }
      ],
      "metadata": {
        "id": "l3pl40N9vcdh",
        "outputId": "6cff31b0-0f0c-4ad1-97c9-b704e9c9f085",
        "colab": {
          "base_uri": "https://localhost:8080/"
        }
      },
      "execution_count": 38
    },
    {
      "cell_type": "markdown",
      "source": [
        "### Using `Qobj` instances for calculations\n",
        "\n",
        "With `Qobj` instances we can do arithmetic and apply a number of different operations using class methods:"
      ],
      "metadata": {
        "id": "_OL-g1hNvcdj"
      }
    },
    {
      "cell_type": "code",
      "source": [
        "sy = Qobj([[0,-1j], [1j,0]])  # the sigma-y Pauli operator\n",
        "\n",
        "sy"
      ],
      "outputs": [
        {
          "output_type": "execute_result",
          "data": {
            "text/plain": [
              "Quantum object: dims=[[2], [2]], shape=(2, 2), type='oper', dtype=Dense, isherm=True\n",
              "Qobj data =\n",
              "[[ 0.+0.j -0.-1.j]\n",
              " [ 0.+1.j  0.+0.j]]"
            ],
            "text/latex": "Quantum object: dims=[[2], [2]], shape=(2, 2), type='oper', dtype=Dense, isherm=True$$\\left(\\begin{array}{cc}0 & -1j\\\\1j & 0\\end{array}\\right)$$"
          },
          "metadata": {},
          "execution_count": 39
        }
      ],
      "metadata": {
        "id": "RcaCjcfTvcdl",
        "outputId": "eab86ae3-7aa1-4cd2-d741-24162fdbea6f",
        "colab": {
          "base_uri": "https://localhost:8080/",
          "height": 34
        }
      },
      "execution_count": 39
    },
    {
      "cell_type": "markdown",
      "source": [
        "Quantum object: dims=[[2], [2]], shape=(2, 2), type='oper', dtype=Dense, isherm=True$$\\left(\\begin{array}{cc}0 & -1j\\\\1j & 0\\end{array}\\right)$$"
      ],
      "metadata": {
        "id": "pyb2TUwD0zSF"
      }
    },
    {
      "cell_type": "markdown",
      "source": [],
      "metadata": {
        "id": "4peyC5uW0xAq"
      }
    },
    {
      "cell_type": "code",
      "source": [
        "sz = Qobj([[1,0], [0,-1]]) # the sigma-z Pauli operator\n",
        "\n",
        "sz"
      ],
      "outputs": [
        {
          "output_type": "execute_result",
          "data": {
            "text/plain": [
              "Quantum object: dims=[[2], [2]], shape=(2, 2), type='oper', dtype=Dense, isherm=True\n",
              "Qobj data =\n",
              "[[ 1.  0.]\n",
              " [ 0. -1.]]"
            ],
            "text/latex": "Quantum object: dims=[[2], [2]], shape=(2, 2), type='oper', dtype=Dense, isherm=True$$\\left(\\begin{array}{cc}1 & 0\\\\0 & -1\\end{array}\\right)$$"
          },
          "metadata": {},
          "execution_count": 40
        }
      ],
      "metadata": {
        "id": "SODkI3wzvcdn",
        "outputId": "9b600e80-c552-44b5-c7a0-64c171298b10",
        "colab": {
          "base_uri": "https://localhost:8080/",
          "height": 34
        }
      },
      "execution_count": 40
    },
    {
      "cell_type": "markdown",
      "source": [
        "Quantum object: dims=[[2], [2]], shape=(2, 2), type='oper', dtype=Dense, isherm=True$$\\left(\\begin{array}{cc}1 & 0\\\\0 & -1\\end{array}\\right)$$"
      ],
      "metadata": {
        "id": "_fH-MAGh3idx"
      }
    },
    {
      "cell_type": "code",
      "source": [
        "# some arithmetic with quantum objects\n",
        "\n",
        "H = 1.0 * sz + 0.1 * sy\n",
        "\n",
        "print(\"Qubit Hamiltonian = \\n\")\n",
        "H"
      ],
      "outputs": [
        {
          "output_type": "stream",
          "name": "stdout",
          "text": [
            "Qubit Hamiltonian = \n",
            "\n"
          ]
        },
        {
          "output_type": "execute_result",
          "data": {
            "text/plain": [
              "Quantum object: dims=[[2], [2]], shape=(2, 2), type='oper', dtype=Dense, isherm=True\n",
              "Qobj data =\n",
              "[[ 1.+0.j   0.-0.1j]\n",
              " [ 0.+0.1j -1.+0.j ]]"
            ],
            "text/latex": "Quantum object: dims=[[2], [2]], shape=(2, 2), type='oper', dtype=Dense, isherm=True$$\\left(\\begin{array}{cc}1 & -0.100j\\\\0.100j & -1\\end{array}\\right)$$"
          },
          "metadata": {},
          "execution_count": 41
        }
      ],
      "metadata": {
        "id": "_-4tPkBMvcdn",
        "outputId": "ca06b97a-de86-425c-dd5d-ee5143fccee7",
        "colab": {
          "base_uri": "https://localhost:8080/",
          "height": 69
        }
      },
      "execution_count": 41
    },
    {
      "cell_type": "markdown",
      "source": [
        "Quantum object: dims=[[2], [2]], shape=(2, 2), type='oper', dtype=Dense, isherm=True$$\\left(\\begin{array}{cc}1 & -0.100j\\\\0.100j & -1\\end{array}\\right)$$"
      ],
      "metadata": {
        "id": "9v8MH1V50sS9"
      }
    },
    {
      "cell_type": "markdown",
      "source": [
        "Example of modifying quantum objects using the `Qobj` methods:"
      ],
      "metadata": {
        "id": "_Xrtm1H-vcdo"
      }
    },
    {
      "cell_type": "code",
      "source": [
        "# The hermitian conjugate\n",
        "sy.dag()"
      ],
      "outputs": [
        {
          "output_type": "execute_result",
          "data": {
            "text/plain": [
              "Quantum object: dims=[[2], [2]], shape=(2, 2), type='oper', dtype=Dense, isherm=True\n",
              "Qobj data =\n",
              "[[ 0.+0.j -0.-1.j]\n",
              " [ 0.+1.j  0.+0.j]]"
            ],
            "text/latex": "Quantum object: dims=[[2], [2]], shape=(2, 2), type='oper', dtype=Dense, isherm=True$$\\left(\\begin{array}{cc}0 & -1j\\\\1j & 0\\end{array}\\right)$$"
          },
          "metadata": {},
          "execution_count": 42
        }
      ],
      "metadata": {
        "id": "bBafU__xvcdp",
        "outputId": "56d29aba-e331-40a8-c44c-2919c0f83110",
        "colab": {
          "base_uri": "https://localhost:8080/",
          "height": 34
        }
      },
      "execution_count": 42
    },
    {
      "cell_type": "markdown",
      "source": [
        "Quantum object: dims=[[2], [2]], shape=(2, 2), type='oper', dtype=Dense, isherm=True$$\\left(\\begin{array}{cc}0 & -1j\\\\1j & 0\\end{array}\\right)$$"
      ],
      "metadata": {
        "id": "aVf3yHib3oh-"
      }
    },
    {
      "cell_type": "code",
      "source": [
        "# The trace\n",
        "H.tr()"
      ],
      "outputs": [
        {
          "output_type": "execute_result",
          "data": {
            "text/plain": [
              "0.0"
            ]
          },
          "metadata": {},
          "execution_count": 43
        }
      ],
      "metadata": {
        "id": "bxyoLWkNvcdp",
        "outputId": "e15e095a-9cff-4e35-b921-6d6e8f681664",
        "colab": {
          "base_uri": "https://localhost:8080/"
        }
      },
      "execution_count": 43
    },
    {
      "cell_type": "code",
      "source": [
        "# Eigen energies\n",
        "H.eigenenergies()"
      ],
      "outputs": [
        {
          "output_type": "execute_result",
          "data": {
            "text/plain": [
              "array([-1.00498756,  1.00498756])"
            ]
          },
          "metadata": {},
          "execution_count": 44
        }
      ],
      "metadata": {
        "id": "Cr_wg7AIvcdq",
        "outputId": "fcbee500-dae9-4886-d4a7-a995fa2c99d7",
        "colab": {
          "base_uri": "https://localhost:8080/"
        }
      },
      "execution_count": 44
    },
    {
      "cell_type": "markdown",
      "source": [
        "For a complete list of methods and properties of the `Qobj` class, see the [QuTiP documentation](http://qutip.googlecode.com/svn/doc/2.1.0/html/index.html) or try `help(Qobj)` or `dir(Qobj)`."
      ],
      "metadata": {
        "id": "-By2yPobvcdq"
      }
    },
    {
      "cell_type": "markdown",
      "source": [
        "## States and operators\n",
        "\n",
        "Normally we do not need to create `Qobj` instances from stratch, using its constructor and passing its matrix represantation as argument. Instead we can use functions in QuTiP that generates common states and operators for us. Here are some examples of built-in state functions:\n",
        "\n",
        "### State vectors"
      ],
      "metadata": {
        "id": "y8PPrsqpvcdr"
      }
    },
    {
      "cell_type": "code",
      "source": [
        "# Fundamental basis states (Fock states of oscillator modes)\n",
        "\n",
        "N = 2 # number of states in the Hilbert space\n",
        "n = 1 # the state that will be occupied\n",
        "\n",
        "basis(N, n)    # equivalent to fock(N, n)"
      ],
      "outputs": [
        {
          "output_type": "execute_result",
          "data": {
            "text/plain": [
              "Quantum object: dims=[[2], [1]], shape=(2, 1), type='ket', dtype=Dense\n",
              "Qobj data =\n",
              "[[0.]\n",
              " [1.]]"
            ],
            "text/latex": "Quantum object: dims=[[2], [1]], shape=(2, 1), type='ket', dtype=Dense$$\\left(\\begin{array}{cc}0\\\\1\\end{array}\\right)$$"
          },
          "metadata": {},
          "execution_count": 45
        }
      ],
      "metadata": {
        "id": "Koiui5e7vcdr",
        "outputId": "7e05a4d9-9ad7-4a51-abd4-932aea98bc7b",
        "colab": {
          "base_uri": "https://localhost:8080/",
          "height": 34
        }
      },
      "execution_count": 45
    },
    {
      "cell_type": "markdown",
      "source": [
        "Quantum object: dims=[[2], [1]], shape=(2, 1), type='ket', dtype=Dense$$\\left(\\begin{array}{cc}0\\\\1\\end{array}\\right)$$"
      ],
      "metadata": {
        "id": "olR5qB1R3wev"
      }
    },
    {
      "cell_type": "code",
      "source": [
        "fock(4, 2) # another example"
      ],
      "outputs": [
        {
          "output_type": "execute_result",
          "data": {
            "text/plain": [
              "Quantum object: dims=[[4], [1]], shape=(4, 1), type='ket', dtype=Dense\n",
              "Qobj data =\n",
              "[[0.]\n",
              " [0.]\n",
              " [1.]\n",
              " [0.]]"
            ],
            "text/latex": "Quantum object: dims=[[4], [1]], shape=(4, 1), type='ket', dtype=Dense$$\\left(\\begin{array}{cc}0\\\\0\\\\1\\\\0\\end{array}\\right)$$"
          },
          "metadata": {},
          "execution_count": 46
        }
      ],
      "metadata": {
        "id": "tjRX_rYDvcds",
        "outputId": "c16c0d67-66a0-4137-85c2-27849be9bea3",
        "colab": {
          "base_uri": "https://localhost:8080/",
          "height": 34
        }
      },
      "execution_count": 46
    },
    {
      "cell_type": "markdown",
      "source": [
        "Quantum object: dims=[[4], [1]], shape=(4, 1), type='ket', dtype=Dense$$\\left(\\begin{array}{cc}0\\\\0\\\\1\\\\0\\end{array}\\right)$$"
      ],
      "metadata": {
        "id": "7SzbsmJQ327Q"
      }
    },
    {
      "cell_type": "code",
      "source": [
        "# a coherent state\n",
        "coherent(N=10, alpha=1.0)"
      ],
      "outputs": [
        {
          "output_type": "execute_result",
          "data": {
            "text/plain": [
              "Quantum object: dims=[[10], [1]], shape=(10, 1), type='ket', dtype=Dense\n",
              "Qobj data =\n",
              "[[0.60653066]\n",
              " [0.60653066]\n",
              " [0.42888194]\n",
              " [0.24761511]\n",
              " [0.12380753]\n",
              " [0.0553686 ]\n",
              " [0.02260303]\n",
              " [0.00854887]\n",
              " [0.00299672]\n",
              " [0.00110007]]"
            ],
            "text/latex": "Quantum object: dims=[[10], [1]], shape=(10, 1), type='ket', dtype=Dense$$\\left(\\begin{array}{cc}0.607\\\\0.607\\\\0.429\\\\0.248\\\\0.124\\\\0.055\\\\0.023\\\\0.009\\\\0.003\\\\0.001\\end{array}\\right)$$"
          },
          "metadata": {},
          "execution_count": 47
        }
      ],
      "metadata": {
        "id": "DB10a-mdvceL",
        "outputId": "0d2d23c0-972e-4315-cb74-5688ccd4e499",
        "colab": {
          "base_uri": "https://localhost:8080/",
          "height": 54
        }
      },
      "execution_count": 47
    },
    {
      "cell_type": "markdown",
      "source": [
        "### Density matrices"
      ],
      "metadata": {
        "id": "PWHzrXUDvceN"
      }
    },
    {
      "cell_type": "code",
      "source": [
        "# a fock state as density matrix\n",
        "fock_dm(5, 2) # 5 = hilbert space size, 2 = state that is occupied"
      ],
      "outputs": [
        {
          "output_type": "execute_result",
          "data": {
            "text/plain": [
              "Quantum object: dims=[[5], [5]], shape=(5, 5), type='oper', dtype=Dia, isherm=True\n",
              "Qobj data =\n",
              "[[0. 0. 0. 0. 0.]\n",
              " [0. 0. 0. 0. 0.]\n",
              " [0. 0. 1. 0. 0.]\n",
              " [0. 0. 0. 0. 0.]\n",
              " [0. 0. 0. 0. 0.]]"
            ],
            "text/latex": "Quantum object: dims=[[5], [5]], shape=(5, 5), type='oper', dtype=Dia, isherm=True$$\\left(\\begin{array}{cc}0 & 0 & 0 & 0 & 0\\\\0 & 0 & 0 & 0 & 0\\\\0 & 0 & 1 & 0 & 0\\\\0 & 0 & 0 & 0 & 0\\\\0 & 0 & 0 & 0 & 0\\end{array}\\right)$$"
          },
          "metadata": {},
          "execution_count": 48
        }
      ],
      "metadata": {
        "id": "hfY_8qtjvceP",
        "outputId": "427076c4-4c61-411c-9d19-5bc8ab3693d0",
        "colab": {
          "base_uri": "https://localhost:8080/",
          "height": 54
        }
      },
      "execution_count": 48
    },
    {
      "cell_type": "markdown",
      "source": [
        "Quantum object: dims=[[5], [5]], shape=(5, 5), type='oper', dtype=Dia, isherm=True$$\\left(\\begin{array}{cc}0 & 0 & 0 & 0 & 0\\\\0 & 0 & 0 & 0 & 0\\\\0 & 0 & 1 & 0 & 0\\\\0 & 0 & 0 & 0 & 0\\\\0 & 0 & 0 & 0 & 0\\end{array}\\right)$$"
      ],
      "metadata": {
        "id": "IorwcQxY3-Oc"
      }
    },
    {
      "cell_type": "code",
      "source": [
        "# coherent state as density matrix\n",
        "coherent_dm(N=8, alpha=1.0)"
      ],
      "outputs": [
        {
          "output_type": "execute_result",
          "data": {
            "text/plain": [
              "Quantum object: dims=[[8], [8]], shape=(8, 8), type='oper', dtype=Dense, isherm=True\n",
              "Qobj data =\n",
              "[[3.67879439e-01 3.67879455e-01 2.60129900e-01 1.50187300e-01\n",
              "  7.50858773e-02 3.36199110e-02 1.35485515e-02 5.77267786e-03]\n",
              " [3.67879455e-01 3.67879470e-01 2.60129911e-01 1.50187306e-01\n",
              "  7.50858804e-02 3.36199124e-02 1.35485520e-02 5.77267810e-03]\n",
              " [2.60129900e-01 2.60129911e-01 1.83939513e-01 1.06198399e-01\n",
              "  5.30937031e-02 2.37728537e-02 9.58026722e-03 4.08189737e-03]\n",
              " [1.50187300e-01 1.50187306e-01 1.06198399e-01 6.13141770e-02\n",
              "  3.06539153e-02 1.37253761e-02 5.53121524e-03 2.35670388e-03]\n",
              " [7.50858773e-02 7.50858804e-02 5.30937031e-02 3.06539153e-02\n",
              "  1.53253712e-02 6.86197771e-03 2.76532136e-03 1.17822997e-03]\n",
              " [3.36199110e-02 3.36199124e-02 2.37728537e-02 1.37253761e-02\n",
              "  6.86197771e-03 3.07246966e-03 1.23818035e-03 5.27555757e-04]\n",
              " [1.35485515e-02 1.35485520e-02 9.58026722e-03 5.53121524e-03\n",
              "  2.76532136e-03 1.23818035e-03 4.98976640e-04 2.12600691e-04]\n",
              " [5.77267786e-03 5.77267810e-03 4.08189737e-03 2.35670388e-03\n",
              "  1.17822997e-03 5.27555757e-04 2.12600691e-04 9.05835068e-05]]"
            ],
            "text/latex": "Quantum object: dims=[[8], [8]], shape=(8, 8), type='oper', dtype=Dense, isherm=True$$\\left(\\begin{array}{cc}0.368 & 0.368 & 0.260 & 0.150 & 0.075 & 0.034 & 0.014 & 0.006\\\\0.368 & 0.368 & 0.260 & 0.150 & 0.075 & 0.034 & 0.014 & 0.006\\\\0.260 & 0.260 & 0.184 & 0.106 & 0.053 & 0.024 & 0.010 & 0.004\\\\0.150 & 0.150 & 0.106 & 0.061 & 0.031 & 0.014 & 0.006 & 0.002\\\\0.075 & 0.075 & 0.053 & 0.031 & 0.015 & 0.007 & 0.003 & 0.001\\\\0.034 & 0.034 & 0.024 & 0.014 & 0.007 & 0.003 & 0.001 & 5.276\\times10^{ -4 }\\\\0.014 & 0.014 & 0.010 & 0.006 & 0.003 & 0.001 & 4.990\\times10^{ -4 } & 2.126\\times10^{ -4 }\\\\0.006 & 0.006 & 0.004 & 0.002 & 0.001 & 5.276\\times10^{ -4 } & 2.126\\times10^{ -4 } & 9.058\\times10^{ -5 }\\end{array}\\right)$$"
          },
          "metadata": {},
          "execution_count": 49
        }
      ],
      "metadata": {
        "id": "KVy3VzHgvceP",
        "outputId": "f10737b2-0537-4665-9d2a-7e0230945061",
        "colab": {
          "base_uri": "https://localhost:8080/",
          "height": 54
        }
      },
      "execution_count": 49
    },
    {
      "cell_type": "markdown",
      "source": [
        "Quantum object: dims=[[8], [8]], shape=(8, 8), type='oper', dtype=Dense, isherm=True$$\\left(\\begin{array}{cc}0.368 & 0.368 & 0.260 & 0.150 & 0.075 & 0.034 & 0.014 & 0.006\\\\0.368 & 0.368 & 0.260 & 0.150 & 0.075 & 0.034 & 0.014 & 0.006\\\\0.260 & 0.260 & 0.184 & 0.106 & 0.053 & 0.024 & 0.010 & 0.004\\\\0.150 & 0.150 & 0.106 & 0.061 & 0.031 & 0.014 & 0.006 & 0.002\\\\0.075 & 0.075 & 0.053 & 0.031 & 0.015 & 0.007 & 0.003 & 0.001\\\\0.034 & 0.034 & 0.024 & 0.014 & 0.007 & 0.003 & 0.001 & 5.276\\times10^{ -4 }\\\\0.014 & 0.014 & 0.010 & 0.006 & 0.003 & 0.001 & 4.990\\times10^{ -4 } & 2.126\\times10^{ -4 }\\\\0.006 & 0.006 & 0.004 & 0.002 & 0.001 & 5.276\\times10^{ -4 } & 2.126\\times10^{ -4 } & 9.058\\times10^{ -5 }\\end{array}\\right)$$"
      ],
      "metadata": {
        "id": "jGrkuP314FVH"
      }
    },
    {
      "cell_type": "code",
      "source": [
        "# thermal state\n",
        "n = 1 # average number of thermal photons\n",
        "thermal_dm(8, n)"
      ],
      "outputs": [
        {
          "output_type": "execute_result",
          "data": {
            "text/plain": [
              "Quantum object: dims=[[8], [8]], shape=(8, 8), type='oper', dtype=Dia, isherm=True\n",
              "Qobj data =\n",
              "[[0.50196078 0.         0.         0.         0.         0.\n",
              "  0.         0.        ]\n",
              " [0.         0.25098039 0.         0.         0.         0.\n",
              "  0.         0.        ]\n",
              " [0.         0.         0.1254902  0.         0.         0.\n",
              "  0.         0.        ]\n",
              " [0.         0.         0.         0.0627451  0.         0.\n",
              "  0.         0.        ]\n",
              " [0.         0.         0.         0.         0.03137255 0.\n",
              "  0.         0.        ]\n",
              " [0.         0.         0.         0.         0.         0.01568627\n",
              "  0.         0.        ]\n",
              " [0.         0.         0.         0.         0.         0.\n",
              "  0.00784314 0.        ]\n",
              " [0.         0.         0.         0.         0.         0.\n",
              "  0.         0.00392157]]"
            ],
            "text/latex": "Quantum object: dims=[[8], [8]], shape=(8, 8), type='oper', dtype=Dia, isherm=True$$\\left(\\begin{array}{cc}0.502 & 0 & 0 & 0 & 0 & 0 & 0 & 0\\\\0 & 0.251 & 0 & 0 & 0 & 0 & 0 & 0\\\\0 & 0 & 0.125 & 0 & 0 & 0 & 0 & 0\\\\0 & 0 & 0 & 0.063 & 0 & 0 & 0 & 0\\\\0 & 0 & 0 & 0 & 0.031 & 0 & 0 & 0\\\\0 & 0 & 0 & 0 & 0 & 0.016 & 0 & 0\\\\0 & 0 & 0 & 0 & 0 & 0 & 0.008 & 0\\\\0 & 0 & 0 & 0 & 0 & 0 & 0 & 0.004\\end{array}\\right)$$"
          },
          "metadata": {},
          "execution_count": 50
        }
      ],
      "metadata": {
        "id": "3n56D5dXvceQ",
        "outputId": "b9b11339-8348-45ea-bcc5-6e6871ca3142",
        "colab": {
          "base_uri": "https://localhost:8080/",
          "height": 54
        }
      },
      "execution_count": 50
    },
    {
      "cell_type": "markdown",
      "source": [
        "Quantum object: dims=[[8], [8]], shape=(8, 8), type='oper', dtype=Dia, isherm=True$$\\left(\\begin{array}{cc}0.502 & 0 & 0 & 0 & 0 & 0 & 0 & 0\\\\0 & 0.251 & 0 & 0 & 0 & 0 & 0 & 0\\\\0 & 0 & 0.125 & 0 & 0 & 0 & 0 & 0\\\\0 & 0 & 0 & 0.063 & 0 & 0 & 0 & 0\\\\0 & 0 & 0 & 0 & 0.031 & 0 & 0 & 0\\\\0 & 0 & 0 & 0 & 0 & 0.016 & 0 & 0\\\\0 & 0 & 0 & 0 & 0 & 0 & 0.008 & 0\\\\0 & 0 & 0 & 0 & 0 & 0 & 0 & 0.004\\end{array}\\right)$$"
      ],
      "metadata": {
        "id": "cLWet99y4LjY"
      }
    },
    {
      "cell_type": "markdown",
      "source": [
        "### Operators"
      ],
      "metadata": {
        "id": "wt4e8FY1vceQ"
      }
    },
    {
      "cell_type": "markdown",
      "source": [
        "#### Qubit (two-level system) operators"
      ],
      "metadata": {
        "id": "bVP1Nh8AvceR"
      }
    },
    {
      "cell_type": "code",
      "source": [
        "# Pauli sigma x\n",
        "sigmax()"
      ],
      "outputs": [
        {
          "output_type": "execute_result",
          "data": {
            "text/plain": [
              "Quantum object: dims=[[2], [2]], shape=(2, 2), type='oper', dtype=CSR, isherm=True\n",
              "Qobj data =\n",
              "[[0. 1.]\n",
              " [1. 0.]]"
            ],
            "text/latex": "Quantum object: dims=[[2], [2]], shape=(2, 2), type='oper', dtype=CSR, isherm=True$$\\left(\\begin{array}{cc}0 & 1\\\\1 & 0\\end{array}\\right)$$"
          },
          "metadata": {},
          "execution_count": 51
        }
      ],
      "metadata": {
        "id": "VJc9OGbJvceR",
        "outputId": "954e2131-6018-4c4a-c626-e9f086451789",
        "colab": {
          "base_uri": "https://localhost:8080/",
          "height": 34
        }
      },
      "execution_count": 51
    },
    {
      "cell_type": "markdown",
      "source": [
        "Quantum object: dims=[[2], [2]], shape=(2, 2), type='oper', dtype=CSR, isherm=True$$\\left(\\begin{array}{cc}0 & 1\\\\1 & 0\\end{array}\\right)$$"
      ],
      "metadata": {
        "id": "xe-BHK_Z4UTZ"
      }
    },
    {
      "cell_type": "code",
      "source": [
        "# Pauli sigma y\n",
        "sigmay()"
      ],
      "outputs": [
        {
          "output_type": "execute_result",
          "data": {
            "text/plain": [
              "Quantum object: dims=[[2], [2]], shape=(2, 2), type='oper', dtype=CSR, isherm=True\n",
              "Qobj data =\n",
              "[[0.+0.j 0.-1.j]\n",
              " [0.+1.j 0.+0.j]]"
            ],
            "text/latex": "Quantum object: dims=[[2], [2]], shape=(2, 2), type='oper', dtype=CSR, isherm=True$$\\left(\\begin{array}{cc}0 & -1j\\\\1j & 0\\end{array}\\right)$$"
          },
          "metadata": {},
          "execution_count": 52
        }
      ],
      "metadata": {
        "id": "gZSggSvVvceR",
        "outputId": "e129e1fc-b351-4b2b-c1ba-b91c55e872c6",
        "colab": {
          "base_uri": "https://localhost:8080/",
          "height": 34
        }
      },
      "execution_count": 52
    },
    {
      "cell_type": "markdown",
      "source": [
        "Quantum object: dims=[[2], [2]], shape=(2, 2), type='oper', dtype=CSR, isherm=True$$\\left(\\begin{array}{cc}0 & -1j\\\\1j & 0\\end{array}\\right)$$"
      ],
      "metadata": {
        "id": "3EgwrlsQ4eI6"
      }
    },
    {
      "cell_type": "code",
      "source": [
        "# Pauli sigma z\n",
        "sigmaz()"
      ],
      "outputs": [
        {
          "output_type": "execute_result",
          "data": {
            "text/plain": [
              "Quantum object: dims=[[2], [2]], shape=(2, 2), type='oper', dtype=CSR, isherm=True\n",
              "Qobj data =\n",
              "[[ 1.  0.]\n",
              " [ 0. -1.]]"
            ],
            "text/latex": "Quantum object: dims=[[2], [2]], shape=(2, 2), type='oper', dtype=CSR, isherm=True$$\\left(\\begin{array}{cc}1 & 0\\\\0 & -1\\end{array}\\right)$$"
          },
          "metadata": {},
          "execution_count": 53
        }
      ],
      "metadata": {
        "id": "wv-kRDBqvceX",
        "outputId": "8a1da01d-324d-4d11-d622-f537a305624d",
        "colab": {
          "base_uri": "https://localhost:8080/",
          "height": 34
        }
      },
      "execution_count": 53
    },
    {
      "cell_type": "markdown",
      "source": [
        "Quantum object: dims=[[2], [2]], shape=(2, 2), type='oper', dtype=CSR, isherm=True$$\\left(\\begin{array}{cc}1 & 0\\\\0 & -1\\end{array}\\right)$$"
      ],
      "metadata": {
        "id": "EvbAFcya4kvx"
      }
    },
    {
      "cell_type": "markdown",
      "source": [
        "#### Harmonic oscillator operators"
      ],
      "metadata": {
        "id": "PDUGNS02vceX"
      }
    },
    {
      "cell_type": "code",
      "source": [
        "#  annihilation operator\n",
        "\n",
        "destroy(N=8) # N = number of fock states included in the Hilbert space"
      ],
      "outputs": [
        {
          "output_type": "execute_result",
          "data": {
            "text/plain": [
              "Quantum object: dims=[[8], [8]], shape=(8, 8), type='oper', dtype=Dia, isherm=False\n",
              "Qobj data =\n",
              "[[0.         1.         0.         0.         0.         0.\n",
              "  0.         0.        ]\n",
              " [0.         0.         1.41421356 0.         0.         0.\n",
              "  0.         0.        ]\n",
              " [0.         0.         0.         1.73205081 0.         0.\n",
              "  0.         0.        ]\n",
              " [0.         0.         0.         0.         2.         0.\n",
              "  0.         0.        ]\n",
              " [0.         0.         0.         0.         0.         2.23606798\n",
              "  0.         0.        ]\n",
              " [0.         0.         0.         0.         0.         0.\n",
              "  2.44948974 0.        ]\n",
              " [0.         0.         0.         0.         0.         0.\n",
              "  0.         2.64575131]\n",
              " [0.         0.         0.         0.         0.         0.\n",
              "  0.         0.        ]]"
            ],
            "text/latex": "Quantum object: dims=[[8], [8]], shape=(8, 8), type='oper', dtype=Dia, isherm=False$$\\left(\\begin{array}{cc}0 & 1 & 0 & 0 & 0 & 0 & 0 & 0\\\\0 & 0 & 1.414 & 0 & 0 & 0 & 0 & 0\\\\0 & 0 & 0 & 1.732 & 0 & 0 & 0 & 0\\\\0 & 0 & 0 & 0 & 2 & 0 & 0 & 0\\\\0 & 0 & 0 & 0 & 0 & 2.236 & 0 & 0\\\\0 & 0 & 0 & 0 & 0 & 0 & 2.449 & 0\\\\0 & 0 & 0 & 0 & 0 & 0 & 0 & 2.646\\\\0 & 0 & 0 & 0 & 0 & 0 & 0 & 0\\end{array}\\right)$$"
          },
          "metadata": {},
          "execution_count": 54
        }
      ],
      "metadata": {
        "id": "GNLOLjlivceY",
        "outputId": "3d9932c8-64d4-4fed-cbff-94c276a9e3b2",
        "colab": {
          "base_uri": "https://localhost:8080/",
          "height": 54
        }
      },
      "execution_count": 54
    },
    {
      "cell_type": "markdown",
      "source": [
        "Quantum object: dims=[[8], [8]], shape=(8, 8), type='oper', dtype=Dia, isherm=False$$\\left(\\begin{array}{cc}0 & 1 & 0 & 0 & 0 & 0 & 0 & 0\\\\0 & 0 & 1.414 & 0 & 0 & 0 & 0 & 0\\\\0 & 0 & 0 & 1.732 & 0 & 0 & 0 & 0\\\\0 & 0 & 0 & 0 & 2 & 0 & 0 & 0\\\\0 & 0 & 0 & 0 & 0 & 2.236 & 0 & 0\\\\0 & 0 & 0 & 0 & 0 & 0 & 2.449 & 0\\\\0 & 0 & 0 & 0 & 0 & 0 & 0 & 2.646\\\\0 & 0 & 0 & 0 & 0 & 0 & 0 & 0\\end{array}\\right)$$"
      ],
      "metadata": {
        "id": "NKwIm-K24uWs"
      }
    },
    {
      "cell_type": "code",
      "source": [
        "# creation operator\n",
        "\n",
        "create(N=8) # equivalent to destroy(5).dag()"
      ],
      "outputs": [
        {
          "output_type": "execute_result",
          "data": {
            "text/plain": [
              "Quantum object: dims=[[8], [8]], shape=(8, 8), type='oper', dtype=Dia, isherm=False\n",
              "Qobj data =\n",
              "[[0.         0.         0.         0.         0.         0.\n",
              "  0.         0.        ]\n",
              " [1.         0.         0.         0.         0.         0.\n",
              "  0.         0.        ]\n",
              " [0.         1.41421356 0.         0.         0.         0.\n",
              "  0.         0.        ]\n",
              " [0.         0.         1.73205081 0.         0.         0.\n",
              "  0.         0.        ]\n",
              " [0.         0.         0.         2.         0.         0.\n",
              "  0.         0.        ]\n",
              " [0.         0.         0.         0.         2.23606798 0.\n",
              "  0.         0.        ]\n",
              " [0.         0.         0.         0.         0.         2.44948974\n",
              "  0.         0.        ]\n",
              " [0.         0.         0.         0.         0.         0.\n",
              "  2.64575131 0.        ]]"
            ],
            "text/latex": "Quantum object: dims=[[8], [8]], shape=(8, 8), type='oper', dtype=Dia, isherm=False$$\\left(\\begin{array}{cc}0 & 0 & 0 & 0 & 0 & 0 & 0 & 0\\\\1 & 0 & 0 & 0 & 0 & 0 & 0 & 0\\\\0 & 1.414 & 0 & 0 & 0 & 0 & 0 & 0\\\\0 & 0 & 1.732 & 0 & 0 & 0 & 0 & 0\\\\0 & 0 & 0 & 2 & 0 & 0 & 0 & 0\\\\0 & 0 & 0 & 0 & 2.236 & 0 & 0 & 0\\\\0 & 0 & 0 & 0 & 0 & 2.449 & 0 & 0\\\\0 & 0 & 0 & 0 & 0 & 0 & 2.646 & 0\\end{array}\\right)$$"
          },
          "metadata": {},
          "execution_count": 55
        }
      ],
      "metadata": {
        "id": "-velOogwvceY",
        "outputId": "c2a63f04-7023-40e1-c6e3-d57168ee243c",
        "colab": {
          "base_uri": "https://localhost:8080/",
          "height": 54
        }
      },
      "execution_count": 55
    },
    {
      "cell_type": "markdown",
      "source": [
        "Quantum object: dims=[[8], [8]], shape=(8, 8), type='oper', dtype=Dia, isherm=False$$\\left(\\begin{array}{cc}0 & 0 & 0 & 0 & 0 & 0 & 0 & 0\\\\1 & 0 & 0 & 0 & 0 & 0 & 0 & 0\\\\0 & 1.414 & 0 & 0 & 0 & 0 & 0 & 0\\\\0 & 0 & 1.732 & 0 & 0 & 0 & 0 & 0\\\\0 & 0 & 0 & 2 & 0 & 0 & 0 & 0\\\\0 & 0 & 0 & 0 & 2.236 & 0 & 0 & 0\\\\0 & 0 & 0 & 0 & 0 & 2.449 & 0 & 0\\\\0 & 0 & 0 & 0 & 0 & 0 & 2.646 & 0\\end{array}\\right)$$"
      ],
      "metadata": {
        "id": "auX1Xxkm41N3"
      }
    },
    {
      "cell_type": "markdown",
      "source": [],
      "metadata": {
        "id": "cC4VNMEX4xvI"
      }
    },
    {
      "cell_type": "code",
      "source": [
        "# the position operator is easily constructed from the annihilation operator\n",
        "a = destroy(8)\n",
        "\n",
        "x = a + a.dag()\n",
        "\n",
        "x"
      ],
      "outputs": [
        {
          "output_type": "execute_result",
          "data": {
            "text/plain": [
              "Quantum object: dims=[[8], [8]], shape=(8, 8), type='oper', dtype=Dia, isherm=True\n",
              "Qobj data =\n",
              "[[0.         1.         0.         0.         0.         0.\n",
              "  0.         0.        ]\n",
              " [1.         0.         1.41421356 0.         0.         0.\n",
              "  0.         0.        ]\n",
              " [0.         1.41421356 0.         1.73205081 0.         0.\n",
              "  0.         0.        ]\n",
              " [0.         0.         1.73205081 0.         2.         0.\n",
              "  0.         0.        ]\n",
              " [0.         0.         0.         2.         0.         2.23606798\n",
              "  0.         0.        ]\n",
              " [0.         0.         0.         0.         2.23606798 0.\n",
              "  2.44948974 0.        ]\n",
              " [0.         0.         0.         0.         0.         2.44948974\n",
              "  0.         2.64575131]\n",
              " [0.         0.         0.         0.         0.         0.\n",
              "  2.64575131 0.        ]]"
            ],
            "text/latex": "Quantum object: dims=[[8], [8]], shape=(8, 8), type='oper', dtype=Dia, isherm=True$$\\left(\\begin{array}{cc}0 & 1 & 0 & 0 & 0 & 0 & 0 & 0\\\\1 & 0 & 1.414 & 0 & 0 & 0 & 0 & 0\\\\0 & 1.414 & 0 & 1.732 & 0 & 0 & 0 & 0\\\\0 & 0 & 1.732 & 0 & 2 & 0 & 0 & 0\\\\0 & 0 & 0 & 2 & 0 & 2.236 & 0 & 0\\\\0 & 0 & 0 & 0 & 2.236 & 0 & 2.449 & 0\\\\0 & 0 & 0 & 0 & 0 & 2.449 & 0 & 2.646\\\\0 & 0 & 0 & 0 & 0 & 0 & 2.646 & 0\\end{array}\\right)$$"
          },
          "metadata": {},
          "execution_count": 56
        }
      ],
      "metadata": {
        "id": "XDzD8G01vceY",
        "outputId": "45bc2df1-adfc-4c3d-fde0-4639f068ba93",
        "colab": {
          "base_uri": "https://localhost:8080/",
          "height": 54
        }
      },
      "execution_count": 56
    },
    {
      "cell_type": "markdown",
      "source": [
        "#### Using `Qobj` instances we can check some well known commutation relations:"
      ],
      "metadata": {
        "id": "gY-kD6l2vceZ"
      }
    },
    {
      "cell_type": "code",
      "source": [
        "def commutator(op1, op2):\n",
        "    return op1 * op2 - op2 * op1"
      ],
      "outputs": [],
      "metadata": {
        "id": "q_xVq2ITvceZ"
      },
      "execution_count": 57
    },
    {
      "cell_type": "markdown",
      "source": [
        "$[a, a^1] = 1$"
      ],
      "metadata": {
        "id": "ImMs3ltMvceZ"
      }
    },
    {
      "cell_type": "code",
      "source": [
        "a = destroy(5)\n",
        "\n",
        "commutator(a, a.dag())"
      ],
      "outputs": [
        {
          "output_type": "execute_result",
          "data": {
            "text/plain": [
              "Quantum object: dims=[[5], [5]], shape=(5, 5), type='oper', dtype=Dia, isherm=True\n",
              "Qobj data =\n",
              "[[ 1.  0.  0.  0.  0.]\n",
              " [ 0.  1.  0.  0.  0.]\n",
              " [ 0.  0.  1.  0.  0.]\n",
              " [ 0.  0.  0.  1.  0.]\n",
              " [ 0.  0.  0.  0. -4.]]"
            ],
            "text/latex": "Quantum object: dims=[[5], [5]], shape=(5, 5), type='oper', dtype=Dia, isherm=True$$\\left(\\begin{array}{cc}1 & 0 & 0 & 0 & 0\\\\0 & 1 & 0 & 0 & 0\\\\0 & 0 & 1.000 & 0 & 0\\\\0 & 0 & 0 & 1 & 0\\\\0 & 0 & 0 & 0 & -4\\end{array}\\right)$$"
          },
          "metadata": {},
          "execution_count": 58
        }
      ],
      "metadata": {
        "id": "3cL-dp25vceZ",
        "outputId": "c911a84a-b70d-4e80-f71c-70ae597496fe",
        "colab": {
          "base_uri": "https://localhost:8080/",
          "height": 54
        }
      },
      "execution_count": 58
    },
    {
      "cell_type": "markdown",
      "source": [
        "Quantum object: dims=[[5], [5]], shape=(5, 5), type='oper', dtype=Dia, isherm=True$$\\left(\\begin{array}{cc}1 & 0 & 0 & 0 & 0\\\\0 & 1 & 0 & 0 & 0\\\\0 & 0 & 1.000 & 0 & 0\\\\0 & 0 & 0 & 1 & 0\\\\0 & 0 & 0 & 0 & -4\\end{array}\\right)$$"
      ],
      "metadata": {
        "id": "9kl8gUIz4_BA"
      }
    },
    {
      "cell_type": "markdown",
      "source": [
        "**Ops...** The result is not identity! Why? Because we have truncated the Hilbert space. But that's OK as long as the highest Fock state isn't involved in the dynamics in our truncated Hilbert space. If it is, the approximation that the truncation introduces might be a problem."
      ],
      "metadata": {
        "id": "nzJWHqkRvceZ"
      }
    },
    {
      "cell_type": "markdown",
      "source": [
        "$[x,p] = i$"
      ],
      "metadata": {
        "id": "BQP0dmnqvceZ"
      }
    },
    {
      "cell_type": "code",
      "source": [
        "x =       (a + a.dag())/math.sqrt(2)\n",
        "p = -1j * (a - a.dag())/math.sqrt(2)"
      ],
      "outputs": [],
      "metadata": {
        "id": "zBqeJ9ZTvcea"
      },
      "execution_count": 59
    },
    {
      "cell_type": "code",
      "source": [
        "commutator(x, p)"
      ],
      "outputs": [
        {
          "output_type": "execute_result",
          "data": {},
          "metadata": {},
          "execution_count": 31
        }
      ],
      "metadata": {
        "id": "jX8j0Ltgvcea",
        "outputId": "0787b786-7b98-40a4-d443-2ff7b353e216"
      },
      "execution_count": null
    },
    {
      "cell_type": "markdown",
      "source": [
        "Same issue with the truncated Hilbert space, but otherwise OK."
      ],
      "metadata": {
        "id": "vpQnVp5Ivcea"
      }
    },
    {
      "cell_type": "markdown",
      "source": [
        "Let's try some Pauli spin inequalities\n",
        "\n",
        "$[\\sigma_x, \\sigma_y] = 2i \\sigma_z$"
      ],
      "metadata": {
        "id": "amQoM4TVvcea"
      }
    },
    {
      "cell_type": "code",
      "source": [
        "commutator(sigmax(), sigmay()) - 2j * sigmaz()"
      ],
      "outputs": [
        {
          "output_type": "execute_result",
          "data": {
            "text/plain": [
              "Quantum object: dims=[[2], [2]], shape=(2, 2), type='oper', dtype=CSR, isherm=True\n",
              "Qobj data =\n",
              "[[0. 0.]\n",
              " [0. 0.]]"
            ],
            "text/latex": "Quantum object: dims=[[2], [2]], shape=(2, 2), type='oper', dtype=CSR, isherm=True$$\\left(\\begin{array}{cc}0 & 0\\\\0 & 0\\end{array}\\right)$$"
          },
          "metadata": {},
          "execution_count": 60
        }
      ],
      "metadata": {
        "id": "NZBcTj2Tvceb",
        "outputId": "6e8e6184-e94a-4d34-b3a5-e806688f5530",
        "colab": {
          "base_uri": "https://localhost:8080/",
          "height": 34
        }
      },
      "execution_count": 60
    },
    {
      "cell_type": "markdown",
      "source": [
        "Quantum object: dims=[[2], [2]], shape=(2, 2), type='oper', dtype=CSR, isherm=True$$\\left(\\begin{array}{cc}0 & 0\\\\0 & 0\\end{array}\\right)$$"
      ],
      "metadata": {
        "id": "kvekJ47p5FSp"
      }
    },
    {
      "cell_type": "markdown",
      "source": [
        "$-i \\sigma_x \\sigma_y \\sigma_z = \\mathbf{1}$"
      ],
      "metadata": {
        "id": "tf_2zIXavceb"
      }
    },
    {
      "cell_type": "code",
      "source": [
        "-1j * sigmax() * sigmay() * sigmaz()"
      ],
      "outputs": [
        {
          "output_type": "execute_result",
          "data": {
            "text/plain": [
              "Quantum object: dims=[[2], [2]], shape=(2, 2), type='oper', dtype=CSR, isherm=True\n",
              "Qobj data =\n",
              "[[1. 0.]\n",
              " [0. 1.]]"
            ],
            "text/latex": "Quantum object: dims=[[2], [2]], shape=(2, 2), type='oper', dtype=CSR, isherm=True$$\\left(\\begin{array}{cc}1 & 0\\\\0 & 1\\end{array}\\right)$$"
          },
          "metadata": {},
          "execution_count": 61
        }
      ],
      "metadata": {
        "id": "6-yYfJI0vceb",
        "outputId": "0f54677d-2c8d-457d-b325-ee119909202b",
        "colab": {
          "base_uri": "https://localhost:8080/",
          "height": 34
        }
      },
      "execution_count": 61
    },
    {
      "cell_type": "markdown",
      "source": [
        "Quantum object: dims=[[2], [2]], shape=(2, 2), type='oper', dtype=CSR, isherm=True$$\\left(\\begin{array}{cc}1 & 0\\\\0 & 1\\end{array}\\right)$$"
      ],
      "metadata": {
        "id": "MNpmcKBK5Km4"
      }
    },
    {
      "cell_type": "markdown",
      "source": [
        "$\\sigma_x^2 = \\sigma_y^2 = \\sigma_z^2 = \\mathbf{1}$"
      ],
      "metadata": {
        "id": "IgEhlTIuvceb"
      }
    },
    {
      "cell_type": "code",
      "source": [
        "sigmax()**2 == sigmay()**2 == sigmaz()**2 == qeye(2)"
      ],
      "outputs": [
        {
          "output_type": "execute_result",
          "data": {
            "text/plain": [
              "True"
            ]
          },
          "metadata": {},
          "execution_count": 62
        }
      ],
      "metadata": {
        "id": "BDNA3Aigvcec",
        "outputId": "4884cf61-3ef0-4aeb-e526-f90b13f54e73",
        "colab": {
          "base_uri": "https://localhost:8080/"
        }
      },
      "execution_count": 62
    },
    {
      "cell_type": "markdown",
      "source": [
        "## Composite systems\n",
        "\n",
        "In most cases we are interested in coupled quantum systems, for example coupled qubits, a qubit coupled to a cavity (oscillator mode), etc.\n",
        "\n",
        "To define states and operators for such systems in QuTiP, we use the `tensor` function to create `Qobj` instances for the composite system.\n",
        "\n",
        "For example, consider a system composed of two qubits. If we want to create a Pauli $\\sigma_z$ operator that acts on the first qubit and leaves the second qubit unaffected (i.e., the operator $\\sigma_z \\otimes \\mathbf{1}$), we would do:"
      ],
      "metadata": {
        "id": "3kp9GddEvcec"
      }
    },
    {
      "cell_type": "code",
      "source": [
        "sz1 = tensor(sigmaz(), qeye(2))\n",
        "\n",
        "sz1"
      ],
      "outputs": [
        {
          "output_type": "execute_result",
          "data": {
            "text/plain": [
              "Quantum object: dims=[[2, 2], [2, 2]], shape=(4, 4), type='oper', dtype=CSR, isherm=True\n",
              "Qobj data =\n",
              "[[ 1.  0.  0.  0.]\n",
              " [ 0.  1.  0.  0.]\n",
              " [ 0.  0. -1.  0.]\n",
              " [ 0.  0.  0. -1.]]"
            ],
            "text/latex": "Quantum object: dims=[[2, 2], [2, 2]], shape=(4, 4), type='oper', dtype=CSR, isherm=True$$\\left(\\begin{array}{cc}1 & 0 & 0 & 0\\\\0 & 1 & 0 & 0\\\\0 & 0 & -1 & 0\\\\0 & 0 & 0 & -1\\end{array}\\right)$$"
          },
          "metadata": {},
          "execution_count": 63
        }
      ],
      "metadata": {
        "id": "-_f1Fx-tvcec",
        "outputId": "95f629d2-e2fe-495f-d085-7bd743d439f3",
        "colab": {
          "base_uri": "https://localhost:8080/",
          "height": 54
        }
      },
      "execution_count": 63
    },
    {
      "cell_type": "markdown",
      "source": [
        "Quantum object: dims=[[2, 2], [2, 2]], shape=(4, 4), type='oper', dtype=CSR, isherm=True$$\\left(\\begin{array}{cc}1 & 0 & 0 & 0\\\\0 & 1 & 0 & 0\\\\0 & 0 & -1 & 0\\\\0 & 0 & 0 & -1\\end{array}\\right)$$"
      ],
      "metadata": {
        "id": "DXVT9i9O5QJE"
      }
    },
    {
      "cell_type": "markdown",
      "source": [
        "We can easily verify that this two-qubit operator does indeed have the desired properties:"
      ],
      "metadata": {
        "id": "u0S0EhZpvcec"
      }
    },
    {
      "cell_type": "code",
      "source": [
        "psi1 = tensor(basis(N,1), basis(N,0)) # excited first qubit\n",
        "psi2 = tensor(basis(N,0), basis(N,1)) # excited second qubit"
      ],
      "outputs": [],
      "metadata": {
        "id": "DITvngwGvcec"
      },
      "execution_count": 64
    },
    {
      "cell_type": "code",
      "source": [
        "sz1 * psi1 == psi1 # this should not be true, because sz1 should flip the sign of the excited state of psi1"
      ],
      "outputs": [
        {
          "output_type": "execute_result",
          "data": {
            "text/plain": [
              "False"
            ]
          },
          "metadata": {},
          "execution_count": 65
        }
      ],
      "metadata": {
        "id": "NVLTIDomvced",
        "outputId": "80fa2363-8ac2-43bd-f2d0-313717adf5eb",
        "colab": {
          "base_uri": "https://localhost:8080/"
        }
      },
      "execution_count": 65
    },
    {
      "cell_type": "code",
      "source": [
        "sz1 * psi2 == psi2 # this should be true, because sz1 should leave psi2 unaffected"
      ],
      "outputs": [
        {
          "output_type": "execute_result",
          "data": {
            "text/plain": [
              "True"
            ]
          },
          "metadata": {},
          "execution_count": 66
        }
      ],
      "metadata": {
        "id": "FAdxPonKvced",
        "outputId": "ab56e16c-e430-44d9-cad4-d1db6d0a5b78",
        "colab": {
          "base_uri": "https://localhost:8080/"
        }
      },
      "execution_count": 66
    },
    {
      "cell_type": "markdown",
      "source": [
        "Above we used the `qeye(N)` function, which generates the identity operator with `N` quantum states. If we want to do the same thing for the second qubit we can do:"
      ],
      "metadata": {
        "id": "DL1nxktwvced"
      }
    },
    {
      "cell_type": "code",
      "source": [
        "sz2 = tensor(qeye(2), sigmaz())\n",
        "\n",
        "sz2"
      ],
      "outputs": [
        {
          "output_type": "execute_result",
          "data": {
            "text/plain": [
              "Quantum object: dims=[[2, 2], [2, 2]], shape=(4, 4), type='oper', dtype=CSR, isherm=True\n",
              "Qobj data =\n",
              "[[ 1.  0.  0.  0.]\n",
              " [ 0. -1.  0.  0.]\n",
              " [ 0.  0.  1.  0.]\n",
              " [ 0.  0.  0. -1.]]"
            ],
            "text/latex": "Quantum object: dims=[[2, 2], [2, 2]], shape=(4, 4), type='oper', dtype=CSR, isherm=True$$\\left(\\begin{array}{cc}1 & 0 & 0 & 0\\\\0 & -1 & 0 & 0\\\\0 & 0 & 1 & 0\\\\0 & 0 & 0 & -1\\end{array}\\right)$$"
          },
          "metadata": {},
          "execution_count": 67
        }
      ],
      "metadata": {
        "id": "Uv-ILNvfvcee",
        "outputId": "19accbb5-4ba7-40b6-af72-a944a34916d1",
        "colab": {
          "base_uri": "https://localhost:8080/",
          "height": 54
        }
      },
      "execution_count": 67
    },
    {
      "cell_type": "markdown",
      "source": [
        "Quantum object: dims=[[2, 2], [2, 2]], shape=(4, 4), type='oper', dtype=CSR, isherm=True$$\\left(\\begin{array}{cc}1 & 0 & 0 & 0\\\\0 & -1 & 0 & 0\\\\0 & 0 & 1 & 0\\\\0 & 0 & 0 & -1\\end{array}\\right)$$"
      ],
      "metadata": {
        "id": "oSP6MFZ75X-c"
      }
    },
    {
      "cell_type": "markdown",
      "source": [
        "Note the order of the argument to the `tensor` function, and the correspondingly different matrix representation of the two operators `sz1` and `sz2`.\n",
        "\n",
        "Using the same method we can create coupling terms of the form $\\sigma_x \\otimes \\sigma_x$:"
      ],
      "metadata": {
        "id": "9IZHdWzWvcee"
      }
    },
    {
      "cell_type": "code",
      "source": [
        "tensor(sigmax(), sigmax())"
      ],
      "outputs": [
        {
          "output_type": "execute_result",
          "data": {
            "text/plain": [
              "Quantum object: dims=[[2, 2], [2, 2]], shape=(4, 4), type='oper', dtype=CSR, isherm=True\n",
              "Qobj data =\n",
              "[[0. 0. 0. 1.]\n",
              " [0. 0. 1. 0.]\n",
              " [0. 1. 0. 0.]\n",
              " [1. 0. 0. 0.]]"
            ],
            "text/latex": "Quantum object: dims=[[2, 2], [2, 2]], shape=(4, 4), type='oper', dtype=CSR, isherm=True$$\\left(\\begin{array}{cc}0 & 0 & 0 & 1\\\\0 & 0 & 1 & 0\\\\0 & 1 & 0 & 0\\\\1 & 0 & 0 & 0\\end{array}\\right)$$"
          },
          "metadata": {},
          "execution_count": 68
        }
      ],
      "metadata": {
        "id": "GaxhMHbnvcee",
        "outputId": "b17b1a2f-d88e-463b-dd3c-4f8ce6c4657f",
        "colab": {
          "base_uri": "https://localhost:8080/",
          "height": 54
        }
      },
      "execution_count": 68
    },
    {
      "cell_type": "markdown",
      "source": [
        "Now we are ready to create a `Qobj` representation of a coupled two-qubit Hamiltonian: $H = \\epsilon_1 \\sigma_z^{(1)} + \\epsilon_2 \\sigma_z^{(2)} + g \\sigma_x^{(1)}\\sigma_x^{(2)}$"
      ],
      "metadata": {
        "id": "Bdyy48b9vcee"
      }
    },
    {
      "cell_type": "code",
      "source": [
        "epsilon = [1.0, 1.0]\n",
        "g = 0.1\n",
        "\n",
        "sz1 = tensor(sigmaz(), qeye(2))\n",
        "sz2 = tensor(qeye(2), sigmaz())\n",
        "\n",
        "H = epsilon[0] * sz1 + epsilon[1] * sz2 + g * tensor(sigmax(), sigmax())\n",
        "\n",
        "H"
      ],
      "outputs": [
        {
          "output_type": "execute_result",
          "data": {
            "text/plain": [
              "Quantum object: dims=[[2, 2], [2, 2]], shape=(4, 4), type='oper', dtype=CSR, isherm=True\n",
              "Qobj data =\n",
              "[[ 2.   0.   0.   0.1]\n",
              " [ 0.   0.   0.1  0. ]\n",
              " [ 0.   0.1  0.   0. ]\n",
              " [ 0.1  0.   0.  -2. ]]"
            ],
            "text/latex": "Quantum object: dims=[[2, 2], [2, 2]], shape=(4, 4), type='oper', dtype=CSR, isherm=True$$\\left(\\begin{array}{cc}2 & 0 & 0 & 0.100\\\\0 & 0 & 0.100 & 0\\\\0 & 0.100 & 0 & 0\\\\0.100 & 0 & 0 & -2\\end{array}\\right)$$"
          },
          "metadata": {},
          "execution_count": 69
        }
      ],
      "metadata": {
        "id": "fOI27aD2vcef",
        "outputId": "5e1f8b54-1a47-4346-e4b9-fc6004ca6a26",
        "colab": {
          "base_uri": "https://localhost:8080/",
          "height": 54
        }
      },
      "execution_count": 69
    },
    {
      "cell_type": "markdown",
      "source": [
        "Quantum object: dims=[[2, 2], [2, 2]], shape=(4, 4), type='oper', dtype=CSR, isherm=True$$\\left(\\begin{array}{cc}2 & 0 & 0 & 0.100\\\\0 & 0 & 0.100 & 0\\\\0 & 0.100 & 0 & 0\\\\0.100 & 0 & 0 & -2\\end{array}\\right)$$"
      ],
      "metadata": {
        "id": "Emdgky0z5jKA"
      }
    },
    {
      "cell_type": "markdown",
      "source": [
        "To create composite systems of different types, all we need to do is to change the operators that we pass to the `tensor` function (which can take an arbitrary number of operator for composite systems with many components).\n",
        "\n",
        "For example, the Jaynes-Cumming Hamiltonian for a qubit-cavity system:\n",
        "\n",
        "$H = \\omega_c a^\\dagger a - \\frac{1}{2}\\omega_a \\sigma_z + g (a \\sigma_+ + a^\\dagger \\sigma_-)$"
      ],
      "metadata": {
        "id": "yC94pG7_vcef"
      }
    },
    {
      "cell_type": "code",
      "source": [
        "wc = 1.0 # cavity frequency\n",
        "wa = 1.0 # qubit/atom frenqency\n",
        "g = 0.1  # coupling strength\n",
        "\n",
        "# cavity mode operator\n",
        "a = tensor(destroy(5), qeye(2))\n",
        "\n",
        "# qubit/atom operators\n",
        "sz = tensor(qeye(5), sigmaz())   # sigma-z operator\n",
        "sm = tensor(qeye(5), destroy(2)) # sigma-minus operator\n",
        "\n",
        "# the Jaynes-Cumming Hamiltonian\n",
        "H = wc * a.dag() * a - 0.5 * wa * sz + g * (a * sm.dag() + a.dag() * sm)\n",
        "\n",
        "H"
      ],
      "outputs": [
        {
          "output_type": "execute_result",
          "data": {
            "text/plain": [
              "Quantum object: dims=[[5, 2], [5, 2]], shape=(10, 10), type='oper', dtype=CSR, isherm=True\n",
              "Qobj data =\n",
              "[[-0.5         0.          0.          0.          0.          0.\n",
              "   0.          0.          0.          0.        ]\n",
              " [ 0.          0.5         0.1         0.          0.          0.\n",
              "   0.          0.          0.          0.        ]\n",
              " [ 0.          0.1         0.5         0.          0.          0.\n",
              "   0.          0.          0.          0.        ]\n",
              " [ 0.          0.          0.          1.5         0.14142136  0.\n",
              "   0.          0.          0.          0.        ]\n",
              " [ 0.          0.          0.          0.14142136  1.5         0.\n",
              "   0.          0.          0.          0.        ]\n",
              " [ 0.          0.          0.          0.          0.          2.5\n",
              "   0.17320508  0.          0.          0.        ]\n",
              " [ 0.          0.          0.          0.          0.          0.17320508\n",
              "   2.5         0.          0.          0.        ]\n",
              " [ 0.          0.          0.          0.          0.          0.\n",
              "   0.          3.5         0.2         0.        ]\n",
              " [ 0.          0.          0.          0.          0.          0.\n",
              "   0.          0.2         3.5         0.        ]\n",
              " [ 0.          0.          0.          0.          0.          0.\n",
              "   0.          0.          0.          4.5       ]]"
            ],
            "text/latex": "Quantum object: dims=[[5, 2], [5, 2]], shape=(10, 10), type='oper', dtype=CSR, isherm=True$$\\left(\\begin{array}{cc}-0.500 & 0 & 0 & 0 & 0 & 0 & 0 & 0 & 0 & 0\\\\0 & 0.500 & 0.100 & 0 & 0 & 0 & 0 & 0 & 0 & 0\\\\0 & 0.100 & 0.500 & 0 & 0 & 0 & 0 & 0 & 0 & 0\\\\0 & 0 & 0 & 1.500 & 0.141 & 0 & 0 & 0 & 0 & 0\\\\0 & 0 & 0 & 0.141 & 1.500 & 0 & 0 & 0 & 0 & 0\\\\0 & 0 & 0 & 0 & 0 & 2.500 & 0.173 & 0 & 0 & 0\\\\0 & 0 & 0 & 0 & 0 & 0.173 & 2.500 & 0 & 0 & 0\\\\0 & 0 & 0 & 0 & 0 & 0 & 0 & 3.500 & 0.200 & 0\\\\0 & 0 & 0 & 0 & 0 & 0 & 0 & 0.200 & 3.500 & 0\\\\0 & 0 & 0 & 0 & 0 & 0 & 0 & 0 & 0 & 4.500\\end{array}\\right)$$"
          },
          "metadata": {},
          "execution_count": 70
        }
      ],
      "metadata": {
        "id": "rJxS8f7Gvcef",
        "outputId": "c4f3c718-5b7d-44d8-b309-7c69e57ac5ae",
        "colab": {
          "base_uri": "https://localhost:8080/",
          "height": 54
        }
      },
      "execution_count": 70
    },
    {
      "cell_type": "markdown",
      "source": [
        "Quantum object: dims=[[5, 2], [5, 2]], shape=(10, 10), type='oper', dtype=CSR, isherm=True$$\\left(\\begin{array}{cc}-0.500 & 0 & 0 & 0 & 0 & 0 & 0 & 0 & 0 & 0\\\\0 & 0.500 & 0.100 & 0 & 0 & 0 & 0 & 0 & 0 & 0\\\\0 & 0.100 & 0.500 & 0 & 0 & 0 & 0 & 0 & 0 & 0\\\\0 & 0 & 0 & 1.500 & 0.141 & 0 & 0 & 0 & 0 & 0\\\\0 & 0 & 0 & 0.141 & 1.500 & 0 & 0 & 0 & 0 & 0\\\\0 & 0 & 0 & 0 & 0 & 2.500 & 0.173 & 0 & 0 & 0\\\\0 & 0 & 0 & 0 & 0 & 0.173 & 2.500 & 0 & 0 & 0\\\\0 & 0 & 0 & 0 & 0 & 0 & 0 & 3.500 & 0.200 & 0\\\\0 & 0 & 0 & 0 & 0 & 0 & 0 & 0.200 & 3.500 & 0\\\\0 & 0 & 0 & 0 & 0 & 0 & 0 & 0 & 0 & 4.500\\end{array}\\right)$$"
      ],
      "metadata": {
        "id": "NBo6qT275tKz"
      }
    },
    {
      "cell_type": "markdown",
      "source": [
        "Note that\n",
        "\n",
        "$a \\sigma_+ = (a \\otimes \\mathbf{1}) (\\mathbf{1} \\otimes \\sigma_+)$\n",
        "\n",
        "so the following two are identical:"
      ],
      "metadata": {
        "id": "tC8CD4THvceg"
      }
    },
    {
      "cell_type": "code",
      "source": [
        "a = tensor(destroy(3), qeye(2))\n",
        "sp = tensor(qeye(3), create(2))\n",
        "\n",
        "a * sp"
      ],
      "outputs": [
        {
          "output_type": "execute_result",
          "data": {
            "text/plain": [
              "Quantum object: dims=[[3, 2], [3, 2]], shape=(6, 6), type='oper', dtype=Dia, isherm=False\n",
              "Qobj data =\n",
              "[[0.         0.         0.         0.         0.         0.        ]\n",
              " [0.         0.         1.         0.         0.         0.        ]\n",
              " [0.         0.         0.         0.         0.         0.        ]\n",
              " [0.         0.         0.         0.         1.41421356 0.        ]\n",
              " [0.         0.         0.         0.         0.         0.        ]\n",
              " [0.         0.         0.         0.         0.         0.        ]]"
            ],
            "text/latex": "Quantum object: dims=[[3, 2], [3, 2]], shape=(6, 6), type='oper', dtype=Dia, isherm=False$$\\left(\\begin{array}{cc}0 & 0 & 0 & 0 & 0 & 0\\\\0 & 0 & 1 & 0 & 0 & 0\\\\0 & 0 & 0 & 0 & 0 & 0\\\\0 & 0 & 0 & 0 & 1.414 & 0\\\\0 & 0 & 0 & 0 & 0 & 0\\\\0 & 0 & 0 & 0 & 0 & 0\\end{array}\\right)$$"
          },
          "metadata": {},
          "execution_count": 71
        }
      ],
      "metadata": {
        "id": "zajkTce8vceg",
        "outputId": "3827fba0-9dbb-4991-9761-d9540f6382b6",
        "colab": {
          "base_uri": "https://localhost:8080/",
          "height": 54
        }
      },
      "execution_count": 71
    },
    {
      "cell_type": "markdown",
      "source": [
        "Quantum object: dims=[[3, 2], [3, 2]], shape=(6, 6), type='oper', dtype=Dia, isherm=False$$\\left(\\begin{array}{cc}0 & 0 & 0 & 0 & 0 & 0\\\\0 & 0 & 1 & 0 & 0 & 0\\\\0 & 0 & 0 & 0 & 0 & 0\\\\0 & 0 & 0 & 0 & 1.414 & 0\\\\0 & 0 & 0 & 0 & 0 & 0\\\\0 & 0 & 0 & 0 & 0 & 0\\end{array}\\right)$$"
      ],
      "metadata": {
        "id": "KIc7pA0t51RY"
      }
    },
    {
      "cell_type": "code",
      "source": [
        "tensor(destroy(3), create(2))"
      ],
      "outputs": [
        {
          "output_type": "execute_result",
          "data": {
            "text/plain": [
              "Quantum object: dims=[[3, 2], [3, 2]], shape=(6, 6), type='oper', dtype=Dia, isherm=False\n",
              "Qobj data =\n",
              "[[0.         0.         0.         0.         0.         0.        ]\n",
              " [0.         0.         1.         0.         0.         0.        ]\n",
              " [0.         0.         0.         0.         0.         0.        ]\n",
              " [0.         0.         0.         0.         1.41421356 0.        ]\n",
              " [0.         0.         0.         0.         0.         0.        ]\n",
              " [0.         0.         0.         0.         0.         0.        ]]"
            ],
            "text/latex": "Quantum object: dims=[[3, 2], [3, 2]], shape=(6, 6), type='oper', dtype=Dia, isherm=False$$\\left(\\begin{array}{cc}0 & 0 & 0 & 0 & 0 & 0\\\\0 & 0 & 1 & 0 & 0 & 0\\\\0 & 0 & 0 & 0 & 0 & 0\\\\0 & 0 & 0 & 0 & 1.414 & 0\\\\0 & 0 & 0 & 0 & 0 & 0\\\\0 & 0 & 0 & 0 & 0 & 0\\end{array}\\right)$$"
          },
          "metadata": {},
          "execution_count": 72
        }
      ],
      "metadata": {
        "id": "qceGZih2vceg",
        "outputId": "7c69c06b-9523-4e9e-8068-8809a3e760d3",
        "colab": {
          "base_uri": "https://localhost:8080/",
          "height": 54
        }
      },
      "execution_count": 72
    },
    {
      "cell_type": "markdown",
      "source": [
        "Quantum object: dims=[[3, 2], [3, 2]], shape=(6, 6), type='oper', dtype=Dia, isherm=False$$\\left(\\begin{array}{cc}0 & 0 & 0 & 0 & 0 & 0\\\\0 & 0 & 1 & 0 & 0 & 0\\\\0 & 0 & 0 & 0 & 0 & 0\\\\0 & 0 & 0 & 0 & 1.414 & 0\\\\0 & 0 & 0 & 0 & 0 & 0\\\\0 & 0 & 0 & 0 & 0 & 0\\end{array}\\right)$$"
      ],
      "metadata": {
        "id": "aB_kB0X85-Qb"
      }
    },
    {
      "cell_type": "markdown",
      "source": [
        "## Unitary dynamics\n",
        "\n",
        "Unitary evolution of a quantum system in QuTiP can be calculated with the `mesolve` function.\n",
        "\n",
        "`mesolve` is short for Master-eqaution solve (for dissipative dynamics), but if no collapse operators (which describe the dissipation) are given to the solve it falls back on the unitary evolution of the Schrodinger (for initial states in state vector for) or the von Neuman equation (for initial states in density matrix form).\n",
        "\n",
        "The evolution solvers in QuTiP returns a class of type `Odedata`, which contains the solution to the problem posed to the evolution solver.\n",
        "\n",
        "For example, considor a qubit with Hamiltonian $H = \\sigma_x$ and initial state $\\left|1\\right>$ (in the sigma-z basis): Its evolution can be calculated as follows:"
      ],
      "metadata": {
        "id": "6VBYZjY9vceh"
      }
    },
    {
      "cell_type": "code",
      "source": [
        "# Hamiltonian\n",
        "H = sigmax()\n",
        "\n",
        "# initial state\n",
        "psi0 = basis(2, 0)\n",
        "\n",
        "# list of times for which the solver should store the state vector\n",
        "tlist = np.linspace(0, 10, 100)\n",
        "\n",
        "result = mesolve(H, psi0, tlist, [], [])"
      ],
      "outputs": [],
      "metadata": {
        "id": "WjxnEIZjvceh"
      },
      "execution_count": 73
    },
    {
      "cell_type": "code",
      "source": [
        "result"
      ],
      "outputs": [
        {
          "output_type": "execute_result",
          "data": {
            "text/plain": [
              "<Result\n",
              "  Solver: sesolve\n",
              "  Solver stats:\n",
              "    method: 'scipy zvode adams'\n",
              "    init time: 0.00040531158447265625\n",
              "    preparation time: 0.00027751922607421875\n",
              "    run time: 0.008033990859985352\n",
              "    solver: 'Schrodinger Evolution'\n",
              "  Time interval: [0.0, 10.0] (100 steps)\n",
              "  Number of e_ops: 0\n",
              "  States saved.\n",
              ">"
            ]
          },
          "metadata": {},
          "execution_count": 74
        }
      ],
      "metadata": {
        "id": "yklRhTmOvceh",
        "outputId": "1c7bce94-aca0-436e-ac25-6aadc5e79b80",
        "colab": {
          "base_uri": "https://localhost:8080/"
        }
      },
      "execution_count": 74
    },
    {
      "cell_type": "markdown",
      "source": [
        "The `result` object contains a list of the wavefunctions at the times requested with the `tlist` array."
      ],
      "metadata": {
        "id": "WCqCtDNJvcei"
      }
    },
    {
      "cell_type": "code",
      "source": [
        "len(result.states)"
      ],
      "outputs": [
        {
          "output_type": "execute_result",
          "data": {
            "text/plain": [
              "100"
            ]
          },
          "metadata": {},
          "execution_count": 75
        }
      ],
      "metadata": {
        "id": "E-GPcIvxvcei",
        "outputId": "0013b164-a44a-4eba-e450-cac8b2951ffb",
        "colab": {
          "base_uri": "https://localhost:8080/"
        }
      },
      "execution_count": 75
    },
    {
      "cell_type": "code",
      "source": [
        "result.states[-1] # the finial state"
      ],
      "outputs": [
        {
          "output_type": "execute_result",
          "data": {
            "text/plain": [
              "Quantum object: dims=[[2], [1]], shape=(2, 1), type='ket', dtype=Dense\n",
              "Qobj data =\n",
              "[[-0.83906638+0.j        ]\n",
              " [ 0.        +0.54402905j]]"
            ],
            "text/latex": "Quantum object: dims=[[2], [1]], shape=(2, 1), type='ket', dtype=Dense$$\\left(\\begin{array}{cc}-0.839\\\\0.544j\\end{array}\\right)$$"
          },
          "metadata": {},
          "execution_count": 76
        }
      ],
      "metadata": {
        "id": "2he3tTUFvcei",
        "outputId": "c9298817-6262-45b7-e8e0-4004a4659feb",
        "colab": {
          "base_uri": "https://localhost:8080/",
          "height": 34
        }
      },
      "execution_count": 76
    },
    {
      "cell_type": "markdown",
      "source": [
        "Quantum object: dims=[[2], [1]], shape=(2, 1), type='ket', dtype=Dense$$\\left(\\begin{array}{cc}-0.839\\\\0.544j\\end{array}\\right)$$"
      ],
      "metadata": {
        "id": "x7JzIy3G6G8y"
      }
    },
    {
      "cell_type": "markdown",
      "source": [
        "### Expectation values\n",
        "\n",
        "The expectation values of an operator given a state vector or density matrix (or list thereof) can be calculated using the `expect` function."
      ],
      "metadata": {
        "id": "8VtrWeDSvcej"
      }
    },
    {
      "cell_type": "code",
      "source": [
        "expect(sigmaz(), result.states[-1])"
      ],
      "outputs": [
        {
          "output_type": "execute_result",
          "data": {
            "text/plain": [
              "0.40806479408005597"
            ]
          },
          "metadata": {},
          "execution_count": 77
        }
      ],
      "metadata": {
        "id": "BSMx-6q0vcej",
        "outputId": "7e7f5fb1-0d75-45ea-869d-1fc3c304d2a8",
        "colab": {
          "base_uri": "https://localhost:8080/"
        }
      },
      "execution_count": 77
    },
    {
      "cell_type": "code",
      "source": [
        "expect(sigmaz(), result.states)"
      ],
      "outputs": [
        {
          "output_type": "execute_result",
          "data": {
            "text/plain": [
              "array([ 1.        ,  0.97966324,  0.9194801 ,  0.82189845,  0.69088728,\n",
              "        0.53177528,  0.35103398,  0.15601481, -0.04535002, -0.24487027,\n",
              "       -0.43443068, -0.60632131, -0.7535507 , -0.87013055, -0.951319  ,\n",
              "       -0.99381383, -0.9958867 , -0.9574533 , -0.88007676, -0.76690429,\n",
              "       -0.62253905, -0.45285285, -0.26474744, -0.06587387,  0.13567909,\n",
              "        0.3317135 ,  0.51425587,  0.67588157,  0.81001677,  0.91120556,\n",
              "        0.97533227,  0.99978876,  0.98358026,  0.92736593,  0.83343229,\n",
              "        0.70559992,  0.54906818,  0.37020385,  0.17628203, -0.0248099 ,\n",
              "       -0.22489269, -0.41582823, -0.58985057, -0.73988155, -0.85981879,\n",
              "       -0.9447841 , -0.9913216 , -0.99753841, -0.96318177, -0.88964906,\n",
              "       -0.77993099, -0.6384903 , -0.47107995, -0.284509  , -0.08636599,\n",
              "        0.11528974,  0.31225626,  0.49652225,  0.66059275,  0.79779446,\n",
              "        0.90254706,  0.97058988,  0.99915523,  0.98708135,  0.93485936,\n",
              "        0.84461322,  0.7200135 ,  0.56612831,  0.38921658,  0.19647394,\n",
              "       -0.00425997, -0.20482058, -0.39705049, -0.57313082, -0.72589982,\n",
              "       -0.84914389, -0.93785015, -0.98841059, -0.99876884, -0.9685036 ,\n",
              "       -0.89884578, -0.7926286 , -0.65417236, -0.48910854, -0.30415083,\n",
              "       -0.10682227,  0.09485115,  0.29266668,  0.47857836,  0.64502446,\n",
              "        0.78523515,  0.89350741,  0.96543742,  0.99809965,  0.9901656 ,\n",
              "        0.9419579 ,  0.85543735,  0.73412306,  0.58294927,  0.40806479])"
            ]
          },
          "metadata": {},
          "execution_count": 78
        }
      ],
      "metadata": {
        "id": "V5OwEJaCvcek",
        "outputId": "9e87f831-e753-4d16-dac5-6dc7de37de2c",
        "colab": {
          "base_uri": "https://localhost:8080/"
        }
      },
      "execution_count": 78
    },
    {
      "cell_type": "code",
      "source": [
        "fig, axes = plt.subplots(1,1)\n",
        "\n",
        "axes.plot(tlist, expect(sigmaz(), result.states))\n",
        "\n",
        "axes.set_xlabel(r'$t$', fontsize=20)\n",
        "axes.set_ylabel(r'$\\left<\\sigma_z\\right>$', fontsize=20);"
      ],
      "outputs": [
        {
          "output_type": "display_data",
          "data": {
            "text/plain": [
              "<Figure size 640x480 with 1 Axes>"
            ],
            "image/png": "[encoded data removed]"
          },
          "metadata": {}
        }
      ],
      "metadata": {
        "id": "CpEbg0vxvcel",
        "outputId": "72576f9c-fde0-4aab-e484-f20502c1982c",
        "colab": {
          "base_uri": "https://localhost:8080/",
          "height": 463
        }
      },
      "execution_count": 79
    },
    {
      "cell_type": "markdown",
      "source": [
        "If we are only interested in expectation values, we could pass a list of operators to the `mesolve` function that we want expectation values for, and have the solver compute then and store the results in the `Odedata` class instance that it returns.\n",
        "\n",
        "For example, to request that the solver calculates the expectation values for the operators $\\sigma_x, \\sigma_y, \\sigma_z$:"
      ],
      "metadata": {
        "id": "BtTyIe-7vcem"
      }
    },
    {
      "cell_type": "code",
      "source": [
        "result = mesolve(H, psi0, tlist, [], [sigmax(), sigmay(), sigmaz()])"
      ],
      "outputs": [],
      "metadata": {
        "id": "agV9Ia28vcem"
      },
      "execution_count": 80
    },
    {
      "cell_type": "markdown",
      "source": [
        "Now the expectation values are available in `result.expect[0]`, `result.expect[1]`, and `result.expect[2]`:"
      ],
      "metadata": {
        "id": "mH7jUPHGvcen"
      }
    },
    {
      "cell_type": "code",
      "source": [
        "fig, axes = plt.subplots(1,1)\n",
        "\n",
        "axes.plot(tlist, result.expect[2], label=r'$\\left<\\sigma_z\\right>$')\n",
        "axes.plot(tlist, result.expect[1], label=r'$\\left<\\sigma_y\\right>$')\n",
        "axes.plot(tlist, result.expect[0], label=r'$\\left<\\sigma_x\\right>$')\n",
        "\n",
        "axes.set_xlabel(r'$t$', fontsize=20)\n",
        "axes.legend(loc=2);"
      ],
      "outputs": [
        {
          "output_type": "display_data",
          "data": {
            "text/plain": [
              "<Figure size 640x480 with 1 Axes>"
            ],
            "image/png": "[encoded data removed]"
          },
          "metadata": {}
        }
      ],
      "metadata": {
        "id": "8ZgmwlLNvcen",
        "outputId": "922c3e8f-4a03-4f0a-9c1a-9e78f0d638c2",
        "colab": {
          "base_uri": "https://localhost:8080/",
          "height": 463
        }
      },
      "execution_count": 81
    },
    {
      "cell_type": "markdown",
      "source": [
        "## Dissipative dynamics\n",
        "\n",
        "To add dissipation to a problem, all we need to do is to define a list of collapse operators to the call to the `mesolve` solver.\n",
        "\n",
        "A collapse operator is an operator that describes how the system is interacting with its environment.\n",
        "\n",
        "For example, consider a quantum harmonic oscillator with Hamiltonian\n",
        "\n",
        "$H = \\hbar\\omega a^\\dagger a$\n",
        "\n",
        "and which loses photons to its environment with a relaxation rate $\\kappa$. The collapse operator that describes this process is\n",
        "\n",
        "$\\sqrt{\\kappa} a$\n",
        "\n",
        "since $a$ is the photon annihilation operator of the oscillator.\n",
        "\n",
        "To program this problem in QuTiP:"
      ],
      "metadata": {
        "id": "PAfhIs1Vvceo"
      }
    },
    {
      "cell_type": "code",
      "source": [
        "w = 1.0               # oscillator frequency\n",
        "kappa = 0.1           # relaxation rate\n",
        "a = destroy(10)       # oscillator annihilation operator\n",
        "rho0 = fock_dm(10, 5) # initial state, fock state with 5 photons\n",
        "H = w * a.dag() * a   # Hamiltonian\n",
        "\n",
        "# A list of collapse operators\n",
        "c_ops = [math.sqrt(kappa) * a]"
      ],
      "outputs": [],
      "metadata": {
        "id": "fvvYY5Lvvceo"
      },
      "execution_count": 83
    },
    {
      "cell_type": "code",
      "source": [
        "tlist = np.linspace(0, 50, 100)\n",
        "\n",
        "# request that the solver return the expectation value of the photon number state operator a.dag() * a\n",
        "result = mesolve(H, rho0, tlist, c_ops, [a.dag() * a])"
      ],
      "outputs": [],
      "metadata": {
        "id": "xsz-ckPJvceo"
      },
      "execution_count": 84
    },
    {
      "cell_type": "code",
      "source": [
        "fig, axes = plt.subplots(1,1)\n",
        "axes.plot(tlist, result.expect[0])\n",
        "axes.set_xlabel(r'$t$', fontsize=20)\n",
        "axes.set_ylabel(r\"Photon number\", fontsize=16);"
      ],
      "outputs": [
        {
          "output_type": "display_data",
          "data": {
            "text/plain": [
              "<Figure size 640x480 with 1 Axes>"
            ],
            "image/png": "[encoded data removed]"
          },
          "metadata": {}
        }
      ],
      "metadata": {
        "id": "6F_s8TCOvceo",
        "outputId": "a4fd3307-d262-4e00-c4fe-1ae38136408f",
        "colab": {
          "base_uri": "https://localhost:8080/",
          "height": 463
        }
      },
      "execution_count": 85
    },
    {
      "cell_type": "markdown",
      "source": [
        "### Software versions"
      ],
      "metadata": {
        "id": "EgoMSn9kvcep"
      }
    },
    {
      "cell_type": "code",
      "source": [
        "from qutip.ipynbtools import version_table\n",
        "\n",
        "version_table()"
      ],
      "outputs": [
        {
          "output_type": "execute_result",
          "data": {
            "text/plain": [
              "<IPython.core.display.HTML object>"
            ],
            "text/html": [
              "<table><tr><th>Software</th><th>Version</th></tr><tr><td>QuTiP</td><td>5.0.4</td></tr><tr><td>Numpy</td><td>1.26.4</td></tr><tr><td>SciPy</td><td>1.13.1</td></tr><tr><td>matplotlib</td><td>3.8.0</td></tr><tr><td>Number of CPUs</td><td>2</td></tr><tr><td>BLAS Info</td><td>Generic</td></tr><tr><td>IPython</td><td>7.34.0</td></tr><tr><td>Python</td><td>3.10.12 (main, Sep 11 2024, 15:47:36) [GCC 11.4.0]</td></tr><tr><td>OS</td><td>posix [linux]</td></tr><tr><td>Cython</td><td>3.0.11</td></tr><tr><td colspan='2'>Wed Nov 06 23:31:33 2024 UTC</td></tr></table>"
            ]
          },
          "metadata": {},
          "execution_count": 86
        }
      ],
      "metadata": {
        "id": "VCaaKK5ovcep",
        "outputId": "611877c5-e190-4357-cbe4-5a93e58dec02",
        "colab": {
          "base_uri": "https://localhost:8080/",
          "height": 268
        }
      },
      "execution_count": 86
    }
  ]
}